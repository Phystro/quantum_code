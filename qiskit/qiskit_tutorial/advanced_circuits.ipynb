{
 "cells": [
  {
   "cell_type": "code",
   "execution_count": 1,
   "metadata": {},
   "outputs": [],
   "source": [
    "import numpy as np\n",
    "from qiskit import *"
   ]
  },
  {
   "cell_type": "markdown",
   "metadata": {},
   "source": [
    "## Opaque gates"
   ]
  },
  {
   "cell_type": "code",
   "execution_count": 2,
   "metadata": {},
   "outputs": [],
   "source": [
    "from qiskit.circuit import Gate\n",
    "\n",
    "my_gate = Gate(name=\"my_gate\", num_qubits=2, params=[])"
   ]
  },
  {
   "cell_type": "code",
   "execution_count": 3,
   "metadata": {},
   "outputs": [
    {
     "data": {
      "text/html": [
       "<pre style=\"word-wrap: normal;white-space: pre;background: #fff0;line-height: 1.1;font-family: &quot;Courier New&quot;,Courier,monospace\">     ┌──────────┐            \n",
       "q_0: ┤0         ├────────────\n",
       "     │  my_gate │┌──────────┐\n",
       "q_1: ┤1         ├┤0         ├\n",
       "     └──────────┘│  my_gate │\n",
       "q_2: ────────────┤1         ├\n",
       "                 └──────────┘</pre>"
      ],
      "text/plain": [
       "     ┌──────────┐            \n",
       "q_0: ┤0         ├────────────\n",
       "     │  my_gate │┌──────────┐\n",
       "q_1: ┤1         ├┤0         ├\n",
       "     └──────────┘│  my_gate │\n",
       "q_2: ────────────┤1         ├\n",
       "                 └──────────┘"
      ]
     },
     "execution_count": 3,
     "metadata": {},
     "output_type": "execute_result"
    }
   ],
   "source": [
    "qr = QuantumRegister(3, 'q')\n",
    "circ = QuantumCircuit(qr)\n",
    "circ.append(my_gate, [qr[0], qr[1]])\n",
    "circ.append(my_gate, [qr[1], qr[2]])\n",
    "\n",
    "circ.draw()"
   ]
  },
  {
   "cell_type": "markdown",
   "metadata": {},
   "source": [
    "### Composite Gates"
   ]
  },
  {
   "cell_type": "code",
   "execution_count": 5,
   "metadata": {},
   "outputs": [
    {
     "data": {
      "text/html": [
       "<pre style=\"word-wrap: normal;white-space: pre;background: #fff0;line-height: 1.1;font-family: &quot;Courier New&quot;,Courier,monospace\">     ┌───┐                       \n",
       "q_0: ┤ H ├──■────────────────────\n",
       "     └───┘┌─┴─┐     ┌───────────┐\n",
       "q_1: ─────┤ X ├──■──┤0          ├\n",
       "          └───┘┌─┴─┐│  sub_circ │\n",
       "q_2: ──────────┤ X ├┤1          ├\n",
       "               └───┘└───────────┘</pre>"
      ],
      "text/plain": [
       "     ┌───┐                       \n",
       "q_0: ┤ H ├──■────────────────────\n",
       "     └───┘┌─┴─┐     ┌───────────┐\n",
       "q_1: ─────┤ X ├──■──┤0          ├\n",
       "          └───┘┌─┴─┐│  sub_circ │\n",
       "q_2: ──────────┤ X ├┤1          ├\n",
       "               └───┘└───────────┘"
      ]
     },
     "execution_count": 5,
     "metadata": {},
     "output_type": "execute_result"
    }
   ],
   "source": [
    "# build a sub-circuit\n",
    "sub_q = QuantumRegister(2)\n",
    "sub_circ = QuantumCircuit(sub_q, name=\"sub_circ\")\n",
    "sub_circ.h(sub_q[0])\n",
    "sub_circ.crz(1, sub_q[0], sub_q[1])\n",
    "sub_circ.barrier()\n",
    "sub_circ.id(sub_q[1])\n",
    "sub_circ.u3(1, 2, -2, sub_q[0])\n",
    "\n",
    "# Convert to a gate and stick it into an arbitrary place in the bigger circuit\n",
    "sub_inst = sub_circ.to_instruction()\n",
    "\n",
    "qr = QuantumRegister(3, 'q')\n",
    "circ = QuantumCircuit(qr)\n",
    "circ.h(qr[0])\n",
    "circ.cx(qr[0], qr[1])\n",
    "circ.cx(qr[1], qr[2])\n",
    "circ.append(sub_inst, [qr[1], qr[2]])\n",
    "\n",
    "circ.draw()"
   ]
  },
  {
   "cell_type": "code",
   "execution_count": null,
   "metadata": {},
   "outputs": [],
   "source": []
  },
  {
   "cell_type": "code",
   "execution_count": null,
   "metadata": {},
   "outputs": [],
   "source": []
  }
 ],
 "metadata": {
  "kernelspec": {
   "display_name": "Python 3",
   "language": "python",
   "name": "python3"
  },
  "language_info": {
   "codemirror_mode": {
    "name": "ipython",
    "version": 3
   },
   "file_extension": ".py",
   "mimetype": "text/x-python",
   "name": "python",
   "nbconvert_exporter": "python",
   "pygments_lexer": "ipython3",
   "version": "3.8.5"
  }
 },
 "nbformat": 4,
 "nbformat_minor": 4
}
