{
 "cells": [
  {
   "cell_type": "code",
   "execution_count": 7,
   "metadata": {},
   "outputs": [
    {
     "name": "stdout",
     "output_type": "stream",
     "text": [
      "Final Score:\n",
      "Heads: 45\t\tTails: 55\n"
     ]
    },
    {
     "data": {
      "image/png": "[encoded data removed]",
      "text/plain": [
       "<Figure size 504x360 with 1 Axes>"
      ]
     },
     "execution_count": 7,
     "metadata": {},
     "output_type": "execute_result"
    }
   ],
   "source": [
    "from qiskit import QuantumRegister, ClassicalRegister, QuantumCircuit, Aer, execute\n",
    "from qiskit.visualization import plot_histogram\n",
    "\n",
    "N = 1 # number of qubits, represents number of coins\n",
    "\n",
    "def QuantumCoinFlip(flips):\n",
    "    \"\"\"\n",
    "    Simulate a coin toss using a qubit\n",
    "    \"\"\"\n",
    "    \n",
    "    qreg = QuantumRegister(N)\n",
    "    creg = ClassicalRegister(N)\n",
    "    qcirc = QuantumCircuit(qreg, creg)\n",
    "    \n",
    "    qcirc.h(qreg[0])\n",
    "    qcirc.measure(qreg[0], creg[0])\n",
    "    \n",
    "    qasm_sim = Aer.get_backend('qasm_simulator')\n",
    "    job = execute(qcirc, backend=qasm_sim, shots=flips)\n",
    "    res = job.result()\n",
    "    qasm_counts = res.get_counts(qcirc)\n",
    "    heads = qasm_counts['0']\n",
    "    tails = qasm_counts['1']\n",
    "    return heads, tails\n",
    "\n",
    "\n",
    "H, T = QuantumCoinFlip(100)\n",
    "print(\"Final Score:\")\n",
    "print(\"Heads: {}\\t\\tTails: {}\".format(H, T))\n",
    "plot_histogram({'0':H, '1':T})"
   ]
  }
 ],
 "metadata": {
  "kernelspec": {
   "display_name": "Python 3",
   "language": "python",
   "name": "python3"
  },
  "language_info": {
   "codemirror_mode": {
    "name": "ipython",
    "version": 3
   },
   "file_extension": ".py",
   "mimetype": "text/x-python",
   "name": "python",
   "nbconvert_exporter": "python",
   "pygments_lexer": "ipython3",
   "version": "3.8.5"
  }
 },
 "nbformat": 4,
 "nbformat_minor": 4
}
