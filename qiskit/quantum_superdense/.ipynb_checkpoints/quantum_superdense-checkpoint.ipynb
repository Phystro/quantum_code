{
 "cells": [
  {
   "cell_type": "code",
   "execution_count": 1,
   "metadata": {},
   "outputs": [],
   "source": [
    "from qiskit import QuantumRegister, ClassicalRegister, QuantumCircuit, execute, Aer\n",
    "from qiskit.visualization import plot_histogram"
   ]
  },
  {
   "cell_type": "code",
   "execution_count": 10,
   "metadata": {},
   "outputs": [],
   "source": [
    "qasm_simulator = Aer.get_backend(\"qasm_simulator\")\n",
    "nshots = 1024\n",
    "\n",
    "qreg = QuantumRegister(2)\n",
    "creg = ClassicalRegister(2)\n",
    "\n",
    "qc = QuantumCircuit(qreg, creg)"
   ]
  },
  {
   "cell_type": "code",
   "execution_count": 11,
   "metadata": {},
   "outputs": [],
   "source": [
    "def create_bell_states(qcirc, qa, qb):\n",
    "    qcirc.h(qa)\n",
    "    qcirc.cx(qa, qb)"
   ]
  },
  {
   "cell_type": "code",
   "execution_count": 12,
   "metadata": {},
   "outputs": [],
   "source": [
    "def encode_message(qcirc, qubit, message):\n",
    "    if message == \"00\":\n",
    "        pass\n",
    "    elif message == \"01\":\n",
    "        qcirc.z(qubit)\n",
    "    elif message == \"10\":\n",
    "        qcirc.x(qubit)\n",
    "    elif message == \"11\":\n",
    "        qcirc.z(qubit)\n",
    "        qcirc.x(qubit)\n",
    "    else:\n",
    "        print(\"Invalid Message: Senging '00'\")"
   ]
  },
  {
   "cell_type": "code",
   "execution_count": 13,
   "metadata": {},
   "outputs": [],
   "source": [
    "def decode_message(qcirc, qa, qb):\n",
    "    qcirc.cx(qa, qb)\n",
    "    qcirc.h(qa)"
   ]
  },
  {
   "cell_type": "code",
   "execution_count": 14,
   "metadata": {},
   "outputs": [
    {
     "data": {
      "text/plain": [
       "<qiskit.circuit.instructionset.InstructionSet at 0x7f1191bb87c0>"
      ]
     },
     "execution_count": 14,
     "metadata": {},
     "output_type": "execute_result"
    }
   ],
   "source": [
    "create_bell_states(qc, 0, 1)\n",
    "\n",
    "qc.barrier()\n",
    "\n",
    "message = \"10\"\n",
    "\n",
    "encode_message(qc, 0, message)\n",
    "\n",
    "qc.barrier()\n",
    "\n",
    "decode_message(qc, 0, 1)\n",
    "\n",
    "qc.barrier()\n",
    "\n",
    "qc.measure([0, 1], [0, 1])"
   ]
  },
  {
   "cell_type": "code",
   "execution_count": 15,
   "metadata": {},
   "outputs": [
    {
     "data": {
      "image/png": "[encoded data removed]",
      "text/plain": [
       "<Figure size 701.578x204.68 with 1 Axes>"
      ]
     },
     "execution_count": 15,
     "metadata": {},
     "output_type": "execute_result"
    }
   ],
   "source": [
    "qc.draw(\"mpl\")"
   ]
  },
  {
   "cell_type": "code",
   "execution_count": 16,
   "metadata": {},
   "outputs": [
    {
     "data": {
      "image/png": "[encoded data removed]",
      "text/plain": [
       "<Figure size 504x360 with 1 Axes>"
      ]
     },
     "execution_count": 16,
     "metadata": {},
     "output_type": "execute_result"
    }
   ],
   "source": [
    "job = execute(qc, qasm_simulator, shots=no_shots)\n",
    "results = job.result()\n",
    "counts = results.get_counts(qc)\n",
    "\n",
    "plot_histogram(counts)"
   ]
  },
  {
   "cell_type": "code",
   "execution_count": 18,
   "metadata": {},
   "outputs": [
    {
     "name": "stdout",
     "output_type": "stream",
     "text": [
      "Simulation Accuracy: 100.0%\n"
     ]
    }
   ],
   "source": [
    "correct_results = results.get_counts(qc)[message]\n",
    "accuracy = (correct_results/nshots)*100\n",
    "print(\"Simulation Accuracy: {}%\".format(accuracy))"
   ]
  },
  {
   "cell_type": "code",
   "execution_count": 21,
   "metadata": {},
   "outputs": [
    {
     "name": "stderr",
     "output_type": "stream",
     "text": [
      "ibmqfactory.load_account:WARNING:2021-03-15 06:31:31,621: Credentials are already in use. The existing account in the session will be replaced.\n"
     ]
    },
    {
     "name": "stdout",
     "output_type": "stream",
     "text": [
      "least busy backend:  ibmq_belem\n"
     ]
    },
    {
     "name": "stderr",
     "output_type": "stream",
     "text": [
      "<ipython-input-21-9a1ef3d152cb>:15: DeprecationWarning: Passing a Qobj to Backend.run is deprecated and will be removed in a future release. Please pass in circuits or pulse schedules instead.\n",
      "  job = backend.run(qobj)\n"
     ]
    }
   ],
   "source": [
    "from qiskit import IBMQ, transpile, assemble\n",
    "from qiskit.providers.ibmq import least_busy\n",
    "\n",
    "# Load local account information\n",
    "IBMQ.load_account()\n",
    "# Get the least busy backend\n",
    "provider = IBMQ.get_provider(hub='ibm-q')\n",
    "backend = least_busy(provider.backends(filters=lambda x: x.configuration().n_qubits >= 2 \n",
    "                                       and not x.configuration().simulator \n",
    "                                       and x.status().operational==True))\n",
    "print(\"least busy backend: \", backend)\n",
    "# Run our circuit\n",
    "t_qc = transpile(qc, backend, optimization_level=3)\n",
    "qobj = assemble(t_qc)\n",
    "job = backend.run(qobj)\n"
   ]
  },
  {
   "cell_type": "code",
   "execution_count": 22,
   "metadata": {},
   "outputs": [
    {
     "name": "stdout",
     "output_type": "stream",
     "text": [
      "Job Status: job has successfully run\n"
     ]
    }
   ],
   "source": [
    "# Monitoring our job\n",
    "from qiskit.tools.monitor import job_monitor\n",
    "job_monitor(job)\n"
   ]
  },
  {
   "cell_type": "code",
   "execution_count": 23,
   "metadata": {},
   "outputs": [
    {
     "data": {
      "image/png": "[encoded data removed]",
      "text/plain": [
       "<Figure size 504x360 with 1 Axes>"
      ]
     },
     "execution_count": 23,
     "metadata": {},
     "output_type": "execute_result"
    }
   ],
   "source": [
    "# Plotting our result\n",
    "result = job.result()\n",
    "plot_histogram(result.get_counts(qc))\n"
   ]
  },
  {
   "cell_type": "code",
   "execution_count": 25,
   "metadata": {},
   "outputs": [
    {
     "name": "stdout",
     "output_type": "stream",
     "text": [
      "QC Accuracy: 79.98046875%\n"
     ]
    }
   ],
   "source": [
    "correct_results = result.get_counts(qc)[message]\n",
    "accuracy = (correct_results/nshots)*100\n",
    "print(\"QC Accuracy: {}%\".format(accuracy))"
   ]
  },
  {
   "cell_type": "code",
   "execution_count": null,
   "metadata": {},
   "outputs": [],
   "source": []
  }
 ],
 "metadata": {
  "kernelspec": {
   "display_name": "Python 3",
   "language": "python",
   "name": "python3"
  },
  "language_info": {
   "codemirror_mode": {
    "name": "ipython",
    "version": 3
   },
   "file_extension": ".py",
   "mimetype": "text/x-python",
   "name": "python",
   "nbconvert_exporter": "python",
   "pygments_lexer": "ipython3",
   "version": "3.8.5"
  }
 },
 "nbformat": 4,
 "nbformat_minor": 4
}
