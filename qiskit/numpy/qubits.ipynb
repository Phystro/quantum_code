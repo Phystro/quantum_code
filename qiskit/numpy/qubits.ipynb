{
 "cells": [
  {
   "cell_type": "code",
   "execution_count": 13,
   "metadata": {},
   "outputs": [],
   "source": [
    "import numpy as np"
   ]
  },
  {
   "cell_type": "code",
   "execution_count": 14,
   "metadata": {},
   "outputs": [],
   "source": [
    "# QUBITS\n",
    "\n",
    "# qubit in |0> state, 100% probability of measuring 0\n",
    "q0 = [1, 0]\n",
    "\n",
    "# qubit in |1> state, 100% probability of measuring 1\n",
    "q1 = [0, 1]\n",
    "\n",
    "# qubit |+>, superposition, 50% probability measuring 0, 50% probability measuring 1\n",
    "q2 = [0.7071067811865475, 0.7071067811865475]\n",
    "\n",
    "# qubit |->, superposition, 50% probability measuring 0, 50% probability measuring 1 with phase pi\n",
    "q3 = [0.7071067811865475, -0.7071067811865475]\n",
    "\n",
    "# qubit |i>, superposition, 50% probability measuring 0, 50% probability measuring 1 with phase pi/2\n",
    "q4 = [0.7071067811865475, 0 + 0.7071067811865475j]\n",
    "\n",
    "# qubit |-i>, superposition, 50% probability measuring 0, 50% probability measuring 1 with phase -pi/2\n",
    "q5 = [0.7071067811865475, 0 - 0.7071067811865475j]"
   ]
  },
  {
   "cell_type": "code",
   "execution_count": 16,
   "metadata": {},
   "outputs": [
    {
     "name": "stdout",
     "output_type": "stream",
     "text": [
      "[0.5 0.5]\n"
     ]
    }
   ],
   "source": [
    "p4 = np.abs(q4)**2\n",
    "print(p4)"
   ]
  },
  {
   "cell_type": "code",
   "execution_count": 17,
   "metadata": {},
   "outputs": [
    {
     "name": "stdout",
     "output_type": "stream",
     "text": [
      "[0 1 0 0]\n"
     ]
    }
   ],
   "source": [
    "# State Vector\n",
    "# combined state of multiple qubits is the tensor product\n",
    "q0q1 = np.kron(q0, q1)\n",
    "print(q0q1)"
   ]
  },
  {
   "cell_type": "code",
   "execution_count": 18,
   "metadata": {},
   "outputs": [
    {
     "name": "stdout",
     "output_type": "stream",
     "text": [
      "Initial state:\t [1, 0]\n",
      "Final state:\t [0 1]\n"
     ]
    }
   ],
   "source": [
    "# Quantum Gates\n",
    "print(\"Initial state:\\t\", q0)\n",
    "X = np.array([\n",
    "    [0, 1],\n",
    "    [1, 0]\n",
    "])\n",
    "# matrix-vector dot product\n",
    "fn = np.dot(X, q0)\n",
    "print(\"Final state:\\t\", fn)"
   ]
  },
  {
   "cell_type": "code",
   "execution_count": 21,
   "metadata": {
    "scrolled": true
   },
   "outputs": [
    {
     "name": "stdout",
     "output_type": "stream",
     "text": [
      "Initial state:\t [1, 0, 0, 0, 0, 0, 0, 0]\n",
      "\n",
      "Operator:\n",
      "\n",
      " [[0. 1. 0. 0. 0. 0. 0. 0.]\n",
      " [1. 0. 0. 0. 0. 0. 0. 0.]\n",
      " [0. 0. 0. 1. 0. 0. 0. 0.]\n",
      " [0. 0. 1. 0. 0. 0. 0. 0.]\n",
      " [0. 0. 0. 0. 0. 1. 0. 0.]\n",
      " [0. 0. 0. 0. 1. 0. 0. 0.]\n",
      " [0. 0. 0. 0. 0. 0. 0. 1.]\n",
      " [0. 0. 0. 0. 0. 0. 1. 0.]] \n",
      "\n",
      "Final state:\t [0. 1. 0. 0. 0. 0. 0. 0.]\n"
     ]
    }
   ],
   "source": [
    "# Matrix Operator\n",
    "# 'resizing' a gate-matrix to the dimension of the state vector\n",
    "# e.g. a matrix operator for X gate acting on 3-qubit state vector\n",
    "\n",
    "psi = [1, 0, 0, 0, 0, 0, 0, 0]\n",
    "print(\"Initial state:\\t\", psi)\n",
    "# define X-gate\n",
    "X = np.array([\n",
    "    [0, 1],\n",
    "    [1, 0]\n",
    "])\n",
    "# define 2 x 2 identity matrix\n",
    "I = np.identity(2)\n",
    "# calculate operator for X-gate acting on third qubit in 3-qubit circuit\n",
    "O = np.kron(np.kron(I, I), X)\n",
    "print(\"\\nOperator:\\n\\n\", O, \"\\n\")\n",
    "psi =  np.dot(psi, O)\n",
    "print(\"Final state:\\t\", psi)"
   ]
  },
  {
   "cell_type": "code",
   "execution_count": 23,
   "metadata": {},
   "outputs": [],
   "source": [
    "# Simulator program\n",
    "\n",
    "def get_ground_state(num_qubits):\n",
    "    # return vector of size 2**num_qubits with all zeroes except first element which is 1\n",
    "    return\n",
    "\n",
    "def get_operator(total_qubits, gate_unitary, target_qubits):\n",
    "    # return unitary operator of size 2**n x 2**n for a given gate and target qubits\n",
    "    return\n",
    "\n",
    "def run_program(initial_state, program):\n",
    "    # read program and for each gate:\n",
    "    #   - calculate matrix operator\n",
    "    #   - multiply state with operator\n",
    "    # return final state\n",
    "    return\n",
    "\n",
    "def measure_all(state_vector):\n",
    "    # choose element from state_vector using weighted random and return it's index\n",
    "    return\n",
    "\n",
    "def get_counts(state_vector, num_shots):\n",
    "    # simply execute measure_all in a loop num_shots times and\n",
    "    # return object with statistics in the following form\n",
    "    #  {\n",
    "    #      element_index: number_of_ocurrences,\n",
    "    #      element_index: number_of_ocurrences,\n",
    "    #      element_index: number_of_ocurrences,\n",
    "    #      ...\n",
    "    #  }\n",
    "    # (only for elements which occurred - returned from measure_all)\n",
    "    return\n",
    "    "
   ]
  }
 ],
 "metadata": {
  "kernelspec": {
   "display_name": "Python 3",
   "language": "python",
   "name": "python3"
  },
  "language_info": {
   "codemirror_mode": {
    "name": "ipython",
    "version": 3
   },
   "file_extension": ".py",
   "mimetype": "text/x-python",
   "name": "python",
   "nbconvert_exporter": "python",
   "pygments_lexer": "ipython3",
   "version": "3.8.5"
  }
 },
 "nbformat": 4,
 "nbformat_minor": 4
}
