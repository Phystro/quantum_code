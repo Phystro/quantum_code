{
 "cells": [
  {
   "cell_type": "code",
   "execution_count": 17,
   "metadata": {},
   "outputs": [],
   "source": [
    "from random import getrandbits\n",
    "from qiskit import Aer, execute, QuantumCircuit, QuantumRegister, ClassicalRegister"
   ]
  },
  {
   "cell_type": "code",
   "execution_count": 18,
   "metadata": {},
   "outputs": [],
   "source": [
    "# experiment specifications\n",
    "\n",
    "KEY_LENGTH = 500 # how many random bits to establish\n",
    "QUANTUM_CHANNEL = []\n",
    "CLASSICAL_CHANNEL = []"
   ]
  },
  {
   "cell_type": "code",
   "execution_count": 19,
   "metadata": {},
   "outputs": [],
   "source": [
    "# Steps in QKD\n",
    "\n",
    "# Alice randomly selects a bit key and a basis in\n",
    "# which to encode each bit of the bit key\n",
    "\n",
    "def select_encoding(length):\n",
    "    \n",
    "    # store states Alice will encode\n",
    "    alice_bitstring = \"\"\n",
    "    \n",
    "    # store basis that Alice will prepare the states in\n",
    "    alice_basis = \"\"\n",
    "    \n",
    "    for i in range(length):\n",
    "        alice_bitstring += str(getrandbits(1))\n",
    "        alice_basis += str(getrandbits(1))\n",
    "        \n",
    "    return alice_bitstring, alice_basis"
   ]
  },
  {
   "cell_type": "code",
   "execution_count": 20,
   "metadata": {},
   "outputs": [
    {
     "name": "stdout",
     "output_type": "stream",
     "text": [
      "alice_bistring:  0110011111\n",
      "alice_basis:  1111001011\n"
     ]
    }
   ],
   "source": [
    "# create Alice's bit_key and alice_basis\n",
    "\n",
    "alice_bitstring, alice_basis = select_encoding(KEY_LENGTH)\n",
    "\n",
    "# preview\n",
    "print(\"alice_bistring: \", alice_bitstring[:10])\n",
    "print(\"alice_basis: \", alice_basis[:10])"
   ]
  },
  {
   "cell_type": "code",
   "execution_count": 21,
   "metadata": {},
   "outputs": [],
   "source": [
    "## Select Measurement\n",
    "\n",
    "# Bob randomly select basis in which to measure each bit\n",
    "\n",
    "def select_measurement(length):\n",
    "    \n",
    "    # store basis that Nob will measure in\n",
    "    bob_basis = \"\"\n",
    "    \n",
    "    for i in range(length):\n",
    "        bob_basis += str(getrandbits(1))\n",
    "    \n",
    "    return bob_basis"
   ]
  },
  {
   "cell_type": "code",
   "execution_count": 22,
   "metadata": {},
   "outputs": [
    {
     "name": "stdout",
     "output_type": "stream",
     "text": [
      "selected measurement:  1010011111\n"
     ]
    }
   ],
   "source": [
    "# create bob_basis list\n",
    "\n",
    "bob_basis = select_measurement(KEY_LENGTH)\n",
    "\n",
    "print(\"selected measurement: \", bob_basis[:10])"
   ]
  },
  {
   "cell_type": "code",
   "execution_count": 24,
   "metadata": {},
   "outputs": [],
   "source": [
    "## Encoding\n",
    "\n",
    "def encode(alice_bitstring, alice_basis):\n",
    "    encoded_qubits = []\n",
    "    for i in range(len(alice_bitstring)):\n",
    "        qc = QuantumCircuit(1, 1)\n",
    "        \n",
    "        if alice_basis[i] == \"0\":\n",
    "            # 0 means we are encoding in the z basis\n",
    "            if alice_bitstring[i] == \"0\":\n",
    "                pass\n",
    "            elif alice_bitstring[i] == \"1\":\n",
    "                qc.x(0)\n",
    "        elif alice_basis[i] == \"1\":\n",
    "            # 0 means we are encoding in the z basis\n",
    "            if alice_bitstring[i] == \"0\":\n",
    "                qc.h(0)\n",
    "            elif alice_bitstring[i] == \"1\":\n",
    "                qc.x(0)\n",
    "                qc.h(0)\n",
    "                \n",
    "        encoded_qubits.append(qc)\n",
    "        \n",
    "    return encoded_qubits"
   ]
  },
  {
   "cell_type": "code",
   "execution_count": 27,
   "metadata": {},
   "outputs": [],
   "source": [
    "# Create Alice's encoded_qubits\n",
    "encoded_qubits = encode(alice_bitstring, alice_basis)"
   ]
  },
  {
   "cell_type": "code",
   "execution_count": 28,
   "metadata": {},
   "outputs": [],
   "source": [
    "## Sending encoded qubits via a Quantum Channel\n",
    "\n",
    "# Alice ending Bob encoded qubits over a quantum channel\n",
    "QUANTUM_CHANNEL = encoded_qubits"
   ]
  },
  {
   "cell_type": "code",
   "execution_count": 31,
   "metadata": {},
   "outputs": [],
   "source": [
    "# Bob measures received qubits. Alice and Bob compare their basis and\n",
    "# keep those where their basis match\n",
    "\n",
    "## Bob measures qubits in a random bases\n",
    "\n",
    "def measure(bob_bases, encoded_qubits, backend):\n",
    "    # store results of Bob's measurements\n",
    "    bob_bitstring = \"\"\n",
    "    \n",
    "    for i in range(len(encoded_qubits)):\n",
    "        qc = encoded_qubits[i]\n",
    "        \n",
    "        if bob_bases[i] == \"0\":\n",
    "            # 0 means we want to measure in Z basis\n",
    "            qc.measure(0, 0)\n",
    "        elif bob_bases[i] == \"1\":\n",
    "            # 1 means we want to measure in X basis\n",
    "            qc.h(0)\n",
    "            qc.measure(0, 0)\n",
    "        job = execute(qc, backend=backend, shots=1)\n",
    "        results = job.result()\n",
    "        counts = results.get_counts()\n",
    "        measured_bit = max(counts, key=counts.get)\n",
    "        \n",
    "        # append measured bit in Bob's measured bitstring\n",
    "        bob_bitstring += measured_bit\n",
    "        \n",
    "    return bob_bitstring"
   ]
  },
  {
   "cell_type": "code",
   "execution_count": 32,
   "metadata": {},
   "outputs": [],
   "source": [
    "# measure qubits that Bob received from Alice\n",
    "\n",
    "sim_backend = Aer.get_backend(\"qasm_simulator\")\n",
    "\n",
    "bob_bitstring = measure(bob_basis, QUANTUM_CHANNEL, sim_backend)"
   ]
  },
  {
   "cell_type": "code",
   "execution_count": 35,
   "metadata": {},
   "outputs": [],
   "source": [
    "# Announce Basis, ALice sends list of basis used to create her encoded qubits\n",
    "# to Bob over a classical channel\n",
    "\n",
    "CLASSICAL_CHANNEL = alice_basis"
   ]
  },
  {
   "cell_type": "code",
   "execution_count": 41,
   "metadata": {},
   "outputs": [],
   "source": [
    "# Find Symmetric Key\n",
    "# Bob checks against his list and sees the places where their basis matched.\n",
    "# Places where they used same basis are the places where they will also\n",
    "# share same key value\n",
    "\n",
    "def bob_compare_bases(alices_bases, bobs_bases):\n",
    "    indices = []\n",
    "    \n",
    "    for i in range(len(alices_bases)):\n",
    "        if alices_bases[i] == bobs_bases[i]:\n",
    "            indices.append(i)\n",
    "            \n",
    "    return indices"
   ]
  },
  {
   "cell_type": "code",
   "execution_count": 42,
   "metadata": {},
   "outputs": [],
   "source": [
    "agreeing_bases = bob_compare_bases(CLASSICAL_CHANNEL, bob_basis)"
   ]
  },
  {
   "cell_type": "code",
   "execution_count": 48,
   "metadata": {},
   "outputs": [],
   "source": [
    "# Bob and Alice know all positions where they used the same basis to encode and \n",
    "# decode a qubit so now if they discard every bit that was encoded\n",
    "# using a basis that didn't agree, they will have a shared key\n",
    "\n",
    "def construct_key_from_indices(bitstring, indices):\n",
    "    key = \"\";\n",
    "    for idx in indices:\n",
    "        # for indices where basis match, bitstring bit is added to the key\n",
    "        key += bitstring[int(idx)]\n",
    "        \n",
    "    return key"
   ]
  },
  {
   "cell_type": "code",
   "execution_count": 50,
   "metadata": {},
   "outputs": [
    {
     "name": "stdout",
     "output_type": "stream",
     "text": [
      "Alice key:  1111001011\n",
      "Bob key:  0101110111\n",
      "Alice's key is equal to Bob's key:  False\n",
      "500\n"
     ]
    }
   ],
   "source": [
    "alice_key = construct_key_from_indices(alice_bitstring, CLASSICAL_CHANNEL)\n",
    "bob_key = construct_key_from_indices(bob_bitstring, agreeing_bases)\n",
    "\n",
    "# preview first 10 elements of each key\n",
    "print(\"Alice key: \", alice_key[:10])\n",
    "print(\"Bob key: \", bob_key[:10])\n",
    "print(\"Alice's key is equal to Bob's key: \", alice_key == bob_key)\n",
    "print(len(alice_key))"
   ]
  },
  {
   "cell_type": "code",
   "execution_count": null,
   "metadata": {},
   "outputs": [],
   "source": []
  }
 ],
 "metadata": {
  "kernelspec": {
   "display_name": "Python 3",
   "language": "python",
   "name": "python3"
  },
  "language_info": {
   "codemirror_mode": {
    "name": "ipython",
    "version": 3
   },
   "file_extension": ".py",
   "mimetype": "text/x-python",
   "name": "python",
   "nbconvert_exporter": "python",
   "pygments_lexer": "ipython3",
   "version": "3.8.5"
  }
 },
 "nbformat": 4,
 "nbformat_minor": 4
}
