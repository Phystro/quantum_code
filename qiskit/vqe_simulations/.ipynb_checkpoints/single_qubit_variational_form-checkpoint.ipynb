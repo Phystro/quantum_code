{
 "cells": [
  {
   "cell_type": "markdown",
   "metadata": {},
   "source": [
    "## Example with a Single Qubit Varational Form\n",
    "\n",
    "We will now use the simple single qubit variational form to solve a problem\n",
    "similar to ground state energy estimation. Specifically, we are given\n",
    "a random probability vector $\\hat{x}$ and wish to determine a possible parameterization for our single qubit variational form such that it outputs a probability distribution that is close to $\\hat{x}$ (where closeness is defined in terms of the Manhattan distance between the two probability vectors)."
   ]
  },
  {
   "cell_type": "code",
   "execution_count": 3,
   "metadata": {},
   "outputs": [],
   "source": [
    "import numpy as np\n",
    "from qiskit import QuantumCircuit, ClassicalRegister, QuantumRegister"
   ]
  },
  {
   "cell_type": "markdown",
   "metadata": {},
   "source": [
    "Create the random probability vector"
   ]
  },
  {
   "cell_type": "code",
   "execution_count": 2,
   "metadata": {},
   "outputs": [],
   "source": [
    "np.random.seed(999999)\n",
    "target_distr = np.random.rand(2)  # 2 dimensional vector\n",
    "# normalize the vector to get a valid probability vector\n",
    "target_distr /= sum(target_distr)"
   ]
  },
  {
   "cell_type": "markdown",
   "metadata": {},
   "source": [
    "A function that takes parameters of a single U3 variational form as arguments\n",
    "as returns corresponding quantum circuit"
   ]
  },
  {
   "cell_type": "code",
   "execution_count": 8,
   "metadata": {},
   "outputs": [],
   "source": [
    "def get_var_form(params):\n",
    "    qr = QuantumRegister(1, name=\"q\")\n",
    "    cr = ClassicalRegister(1, name=\"c\")\n",
    "    qc = QuantumCircuit(qr, cr)\n",
    "    \n",
    "    qc.u3(params[0], params[1], params[2], qr[0])\n",
    "    qc.measure(qr, cr[0])\n",
    "    \n",
    "    return qc"
   ]
  },
  {
   "cell_type": "code",
   "execution_count": 12,
   "metadata": {},
   "outputs": [
    {
     "name": "stdout",
     "output_type": "stream",
     "text": [
      "     ┌──────────────┐┌─┐\n",
      "q_0: ┤ U3(π,π/2,-π) ├┤M├\n",
      "     └──────────────┘└╥┘\n",
      "c: 1/═════════════════╩═\n",
      "                      0 \n"
     ]
    }
   ],
   "source": [
    "print(get_var_form([np.pi, .5*np.pi, -np.pi]))"
   ]
  }
 ],
 "metadata": {
  "kernelspec": {
   "display_name": "Python 3",
   "language": "python",
   "name": "python3"
  },
  "language_info": {
   "codemirror_mode": {
    "name": "ipython",
    "version": 3
   },
   "file_extension": ".py",
   "mimetype": "text/x-python",
   "name": "python",
   "nbconvert_exporter": "python",
   "pygments_lexer": "ipython3",
   "version": "3.8.5"
  }
 },
 "nbformat": 4,
 "nbformat_minor": 4
}
