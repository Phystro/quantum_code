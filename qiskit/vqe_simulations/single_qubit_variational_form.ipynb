{
 "cells": [
  {
   "cell_type": "markdown",
   "metadata": {},
   "source": [
    "## Example with a Single Qubit Varational Form\n",
    "\n",
    "We will now use the simple single qubit variational form to solve a problem\n",
    "similar to ground state energy estimation. Specifically, we are given\n",
    "a random probability vector $\\hat{x}$ and wish to determine a possible parameterization for our single qubit variational form such that it outputs a probability distribution that is close to $\\hat{x}$ (where closeness is defined in terms of the Manhattan distance between the two probability vectors)."
   ]
  },
  {
   "cell_type": "code",
   "execution_count": 1,
   "metadata": {},
   "outputs": [],
   "source": [
    "import numpy as np\n",
    "from qiskit import QuantumCircuit, ClassicalRegister, QuantumRegister\n",
    "from qiskit import Aer, execute\n",
    "from qiskit.aqua.components.optimizers import COBYLA"
   ]
  },
  {
   "cell_type": "markdown",
   "metadata": {},
   "source": [
    "Create the random probability vector"
   ]
  },
  {
   "cell_type": "code",
   "execution_count": 32,
   "metadata": {},
   "outputs": [
    {
     "name": "stdout",
     "output_type": "stream",
     "text": [
      "[0.22027533 0.20863466 0.51316198 0.05792803]\n"
     ]
    }
   ],
   "source": [
    "np.random.seed(999999)\n",
    "target_distr = np.random.rand(2**2)  # 2 dimensional vector\n",
    "# normalize the vector to get a valid probability vector\n",
    "target_distr /= sum(target_distr)\n",
    "\n",
    "print(target_distr)"
   ]
  },
  {
   "cell_type": "markdown",
   "metadata": {},
   "source": [
    "A function that takes parameters of a single U3 variational form as arguments\n",
    "as returns corresponding quantum circuit"
   ]
  },
  {
   "cell_type": "code",
   "execution_count": 33,
   "metadata": {},
   "outputs": [],
   "source": [
    "def get_var_form(params):\n",
    "    qr = QuantumRegister(2, name=\"q\")\n",
    "    cr = ClassicalRegister(2, name=\"c\")\n",
    "    qc = QuantumCircuit(qr, cr)\n",
    "    \n",
    "    #qc.u3(params[0], params[1], params[2], qr[0])\n",
    "    qc.h(qr[0])\n",
    "    qc.cx(qr[0], qr[1])\n",
    "    qc.measure(qr, cr)\n",
    "    \n",
    "    return qc"
   ]
  },
  {
   "cell_type": "code",
   "execution_count": 34,
   "metadata": {},
   "outputs": [
    {
     "name": "stdout",
     "output_type": "stream",
     "text": [
      "     ┌───┐     ┌─┐   \n",
      "q_0: ┤ H ├──■──┤M├───\n",
      "     └───┘┌─┴─┐└╥┘┌─┐\n",
      "q_1: ─────┤ X ├─╫─┤M├\n",
      "          └───┘ ║ └╥┘\n",
      "c: 2/═══════════╩══╩═\n",
      "                0  1 \n"
     ]
    }
   ],
   "source": [
    "print(get_var_form([np.pi, .5*np.pi, -np.pi]))"
   ]
  },
  {
   "cell_type": "markdown",
   "metadata": {},
   "source": [
    "An objective function that takes in as input a list of the variational form's parameters, and returns\n",
    "the cost associated with those parameters"
   ]
  },
  {
   "cell_type": "code",
   "execution_count": 37,
   "metadata": {},
   "outputs": [
    {
     "name": "stdout",
     "output_type": "stream",
     "text": [
      "counts: {'00': 5084, '11': 4916}\n",
      "output distr: [0.5084, 0.4916]\n",
      "target distr: [0.22027533 0.20863466 0.51316198 0.05792803]\n",
      "0.5710900130147567\n"
     ]
    }
   ],
   "source": [
    "qasm_backend = Aer.get_backend('qasm_simulator')\n",
    "NUM_SHOTS = 10000\n",
    "params = [np.pi, np.pi/2, -np.pi]\n",
    "\n",
    "def get_probability_distribution(counts):\n",
    "    output_distr = [v / NUM_SHOTS for v in counts.values()]\n",
    "    \n",
    "    if (len(output_distr) == 1):\n",
    "        output_distr.append(1 - output_distr[0])\n",
    "        \n",
    "    return output_distr\n",
    "\n",
    "def objective_function(params):\n",
    "    # get a quantum circuit instance from the params\n",
    "    qc = get_var_form(params)\n",
    "    \n",
    "    # execute quantum circuit to obtain the probability distribution associated with current parameters\n",
    "    result = execute(qc, qasm_backend, shots=NUM_SHOTS).result()\n",
    "    \n",
    "    # obtain counts for each measured state and convert the counts into a probability vector\n",
    "    counts = result.get_counts(qc)\n",
    "    output_distr = get_probability_distribution(counts)\n",
    "    \n",
    "    print(\"counts:\",counts)\n",
    "    print(\"output distr:\", output_distr)\n",
    "    print(\"target distr:\", target_distr)\n",
    "    \n",
    "    cost = sum( [np.abs(output_distr[i] -  target_distr[i]) for i in range(2)] )\n",
    "    return cost\n",
    "\n",
    "print(objective_function(params))"
   ]
  },
  {
   "cell_type": "markdown",
   "metadata": {},
   "source": [
    "Finally, we create an instance of the COBYLA optimizer, and run the algorithm. Note that the output varies from run to run. Moreover, while close, the obtained distribution might not be exactly the same as the target distribution, however, increasing the number of shots taken will increase the accuracy of the output."
   ]
  },
  {
   "cell_type": "code",
   "execution_count": 43,
   "metadata": {},
   "outputs": [
    {
     "name": "stdout",
     "output_type": "stream",
     "text": [
      "{'00': 8977, '01': 1023} [0.8977, 0.1023] [0.22027533 0.20863466 0.51316198 0.05792803]\n",
      "{'00': 4604, '01': 5396} [0.4604, 0.5396] [0.22027533 0.20863466 0.51316198 0.05792803]\n",
      "{'00': 4595, '01': 5405} [0.4595, 0.5405] [0.22027533 0.20863466 0.51316198 0.05792803]\n",
      "{'00': 4613, '01': 5387} [0.4613, 0.5387] [0.22027533 0.20863466 0.51316198 0.05792803]\n",
      "{'00': 620, '01': 9380} [0.062, 0.938] [0.22027533 0.20863466 0.51316198 0.05792803]\n",
      "{'00': 2277, '01': 7723} [0.2277, 0.7723] [0.22027533 0.20863466 0.51316198 0.05792803]\n",
      "{'00': 4512, '01': 5488} [0.4512, 0.5488] [0.22027533 0.20863466 0.51316198 0.05792803]\n",
      "{'00': 4650, '01': 5350} [0.465, 0.535] [0.22027533 0.20863466 0.51316198 0.05792803]\n",
      "{'00': 4561, '01': 5439} [0.4561, 0.5439] [0.22027533 0.20863466 0.51316198 0.05792803]\n",
      "{'00': 4502, '01': 5498} [0.4502, 0.5498] [0.22027533 0.20863466 0.51316198 0.05792803]\n",
      "{'00': 4287, '01': 5713} [0.4287, 0.5713] [0.22027533 0.20863466 0.51316198 0.05792803]\n",
      "{'00': 5200, '01': 4800} [0.52, 0.48] [0.22027533 0.20863466 0.51316198 0.05792803]\n",
      "{'00': 4687, '01': 5313} [0.4687, 0.5313] [0.22027533 0.20863466 0.51316198 0.05792803]\n",
      "{'00': 4619, '01': 5381} [0.4619, 0.5381] [0.22027533 0.20863466 0.51316198 0.05792803]\n",
      "{'00': 4589, '01': 5411} [0.4589, 0.5411] [0.22027533 0.20863466 0.51316198 0.05792803]\n",
      "{'00': 4585, '01': 5415} [0.4585, 0.5415] [0.22027533 0.20863466 0.51316198 0.05792803]\n",
      "{'00': 4582, '01': 5418} [0.4582, 0.5418] [0.22027533 0.20863466 0.51316198 0.05792803]\n",
      "{'00': 4608, '01': 5392} [0.4608, 0.5392] [0.22027533 0.20863466 0.51316198 0.05792803]\n",
      "{'00': 4554, '01': 5446} [0.4554, 0.5446] [0.22027533 0.20863466 0.51316198 0.05792803]\n",
      "{'00': 4568, '01': 5432} [0.4568, 0.5432] [0.22027533 0.20863466 0.51316198 0.05792803]\n",
      "{'00': 4554, '01': 5446} [0.4554, 0.5446] [0.22027533 0.20863466 0.51316198 0.05792803]\n",
      "{'00': 4463, '01': 5537} [0.4463, 0.5537] [0.22027533 0.20863466 0.51316198 0.05792803]\n",
      "{'00': 4607, '01': 5393} [0.4607, 0.5393] [0.22027533 0.20863466 0.51316198 0.05792803]\n",
      "{'00': 4581, '01': 5419} [0.4581, 0.5419] [0.22027533 0.20863466 0.51316198 0.05792803]\n",
      "{'00': 4621, '01': 5379} [0.4621, 0.5379] [0.22027533 0.20863466 0.51316198 0.05792803]\n",
      "Target Distribution: [0.22027533 0.20863466 0.51316198 0.05792803]\n",
      "Obtained Distribution: [0.463, 0.537]\n",
      "Output Error (Manhattan Distance): 0.5710900130147568\n",
      "Parameters Found: [1.65299855 0.65780185 0.20146804]\n"
     ]
    }
   ],
   "source": [
    "# initialize the COBYLA optimizer\n",
    "optimizer = COBYLA(maxiter=500, tol=0.0001)\n",
    "\n",
    "# create the initial parameters (noting that our single qubit variational formhas 3 parameters)\n",
    "params = np.random.rand(3)\n",
    "ret = optimizer.optimize(num_vars=3, objective_function=objective_function, initial_point=params)\n",
    "\n",
    "# obtain the output distribution using the final parameters\n",
    "qc = get_var_form(ret[0])\n",
    "counts = execute(qc, qasm_backend, shots=NUM_SHOTS).result().get_counts(qc)\n",
    "output_distr = get_probability_distribution(counts)\n",
    "\n",
    "print(\"Target Distribution:\", target_distr)\n",
    "print(\"Obtained Distribution:\", output_distr)\n",
    "print(\"Output Error (Manhattan Distance):\", ret[1])\n",
    "print(\"Parameters Found:\", ret[0])"
   ]
  }
 ],
 "metadata": {
  "kernelspec": {
   "display_name": "Python 3",
   "language": "python",
   "name": "python3"
  },
  "language_info": {
   "codemirror_mode": {
    "name": "ipython",
    "version": 3
   },
   "file_extension": ".py",
   "mimetype": "text/x-python",
   "name": "python",
   "nbconvert_exporter": "python",
   "pygments_lexer": "ipython3",
   "version": "3.8.5"
  }
 },
 "nbformat": 4,
 "nbformat_minor": 4
}
