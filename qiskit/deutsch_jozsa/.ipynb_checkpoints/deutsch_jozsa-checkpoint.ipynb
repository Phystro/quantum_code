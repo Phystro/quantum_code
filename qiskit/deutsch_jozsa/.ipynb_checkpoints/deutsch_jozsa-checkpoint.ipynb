{
 "cells": [
  {
   "cell_type": "code",
   "execution_count": null,
   "metadata": {},
   "outputs": [],
   "source": [
    "\"\"\" \n",
    "We have a hidden boolean function, f, that takes an input of string\n",
    "of bits and returns 0 or 1.\n",
    "\n",
    "If the function is constant, it returns all 0's or all 1's for any\n",
    "input.\n",
    "If the function is balanced, it returns 0's for exactly half of all\n",
    "inputs and 1's for the other half.\n",
    "\n",
    "Task: establish if given function is constant or balanced.\n",
    "\"\"\""
   ]
  }
 ],
 "metadata": {
  "kernelspec": {
   "display_name": "Python 3",
   "language": "python",
   "name": "python3"
  },
  "language_info": {
   "codemirror_mode": {
    "name": "ipython",
    "version": 3
   },
   "file_extension": ".py",
   "mimetype": "text/x-python",
   "name": "python",
   "nbconvert_exporter": "python",
   "pygments_lexer": "ipython3",
   "version": "3.8.5"
  }
 },
 "nbformat": 4,
 "nbformat_minor": 4
}
