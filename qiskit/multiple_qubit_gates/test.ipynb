{
 "cells": [
  {
   "cell_type": "code",
   "execution_count": 1,
   "metadata": {},
   "outputs": [],
   "source": [
    "from qiskit import QuantumRegister, ClassicalRegister, QuantumCircuit, execute, Aer, IBMQ\n",
    "from qiskit.compiler import transpile, assemble\n",
    "from qiskit.tools.jupyter import *\n",
    "from qiskit.visualization import *"
   ]
  },
  {
   "cell_type": "code",
   "execution_count": 38,
   "metadata": {},
   "outputs": [],
   "source": []
  },
  {
   "cell_type": "code",
   "execution_count": 2,
   "metadata": {
    "scrolled": true
   },
   "outputs": [],
   "source": [
    "N = 2 # number of qubits\n",
    "qreg = QuantumRegister(N)\n",
    "creg = ClassicalRegister(N)\n",
    "qcirc = QuantumCircuit(qreg, creg)\n",
    "\n",
    "\n",
    "qcirc.h(0)\n",
    "qcirc.cx(0, 1)\n",
    "\n",
    "qcirc.barrier()\n",
    "\n",
    "\n",
    "qcirc.barrier()\n",
    "\n",
    "qcirc.measure([qreg[0], qreg[1]], [creg[0], creg[1]])\n",
    "\n",
    "\n",
    "statevector_sim = Aer.get_backend('statevector_simulator')\n",
    "result = execute(qcirc, backend=statevector_sim).result()\n",
    "statevector = result.get_statevector()"
   ]
  },
  {
   "cell_type": "code",
   "execution_count": 3,
   "metadata": {},
   "outputs": [
    {
     "data": {
      "text/html": [
       "<pre style=\"word-wrap: normal;white-space: pre;background: #fff0;line-height: 1.1;font-family: &quot;Courier New&quot;,Courier,monospace\">      ┌───┐      ░  ░ ┌─┐   \n",
       "q0_0: ┤ H ├──■───░──░─┤M├───\n",
       "      └───┘┌─┴─┐ ░  ░ └╥┘┌─┐\n",
       "q0_1: ─────┤ X ├─░──░──╫─┤M├\n",
       "           └───┘ ░  ░  ║ └╥┘\n",
       "c0: 2/═════════════════╩══╩═\n",
       "                       0  1 </pre>"
      ],
      "text/plain": [
       "      ┌───┐      ░  ░ ┌─┐   \n",
       "q0_0: ┤ H ├──■───░──░─┤M├───\n",
       "      └───┘┌─┴─┐ ░  ░ └╥┘┌─┐\n",
       "q0_1: ─────┤ X ├─░──░──╫─┤M├\n",
       "           └───┘ ░  ░  ║ └╥┘\n",
       "c0: 2/═════════════════╩══╩═\n",
       "                       0  1 "
      ]
     },
     "metadata": {},
     "output_type": "display_data"
    },
    {
     "name": "stdout",
     "output_type": "stream",
     "text": [
      "[0.+0.j 0.+0.j 0.+0.j 1.+0.j]\n"
     ]
    }
   ],
   "source": [
    "display( qcirc.draw() )\n",
    "print(statevector)"
   ]
  }
 ],
 "metadata": {
  "kernelspec": {
   "display_name": "Python 3",
   "language": "python",
   "name": "python3"
  },
  "language_info": {
   "codemirror_mode": {
    "name": "ipython",
    "version": 3
   },
   "file_extension": ".py",
   "mimetype": "text/x-python",
   "name": "python",
   "nbconvert_exporter": "python",
   "pygments_lexer": "ipython3",
   "version": "3.8.5"
  }
 },
 "nbformat": 4,
 "nbformat_minor": 4
}
