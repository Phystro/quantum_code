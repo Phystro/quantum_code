{
 "cells": [
  {
   "cell_type": "markdown",
   "metadata": {},
   "source": [
    "<div style=\"text-align: center; margin: 50px\">\n",
    "<h1 style=\"color: darkblue; text-align: center;\">Qubit by Qubit - Semester 2, HW 17</h1>\n",
    "<h3>Gates, Measurement, & Circuits Pt. 2</h3>\n",
    "</div>\n",
    "\n",
    "## Homework overview \n",
    "1. [Solving tensor product by hand](#q1)\n",
    "2. [Solving tensor products using numpy](#q2)\n",
    "3. [Unitary gate contruction on Qiskit](#q3)\n",
    "4. [The Qasm simulator](#q4)"
   ]
  },
  {
   "cell_type": "code",
   "execution_count": 2,
   "metadata": {},
   "outputs": [],
   "source": [
    "# Import qiskit and call it q for short so we can construct,simulate, and run quantum circuits!\n",
    "import qiskit as q\n",
    "# Import Numpy and call it np so we can do maths!\n",
    "import numpy as np\n",
    "# Import the python plotting module of matplotlib and call it plt so we can draw graphs!\n",
    "import matplotlib.pyplot as plt\n",
    "# Tell matplotlib that we are in an Ipython notebook\n",
    "%matplotlib inline"
   ]
  },
  {
   "cell_type": "markdown",
   "metadata": {},
   "source": [
    "<a id=\"q1\"></a>\n",
    "# Activity 1: Solving tensor product by hand\n",
    "Tensor products allow us to describe an systems of multiple subsystems, that means we it allows us to describe a two qubit system in terms of the individual qubits.\n",
    "[Take a look at this page for more info](https://www.quantiki.org/wiki/tensor-product)\n",
    "\n",
    "First we are going to solve some things by hand:\n",
    "### 1 a) Solve the following for $|\\Psi\\rangle$:\n",
    "$$\n",
    "    |\\Psi \\rangle = \n",
    "    \\begin{bmatrix}\n",
    "        0 \\\\\n",
    "        1\n",
    "     \\end{bmatrix}\n",
    "     \\otimes\n",
    "      \\begin{bmatrix}\n",
    "        1 \\\\\n",
    "        0\n",
    "     \\end{bmatrix}\n",
    "$$"
   ]
  },
  {
   "cell_type": "code",
   "execution_count": 44,
   "metadata": {},
   "outputs": [
    {
     "name": "stdout",
     "output_type": "stream",
     "text": [
      "[0 0 1 0]\n"
     ]
    }
   ],
   "source": [
    "# replace a,b,c,d with the integer values\n",
    "# Psi = np.array([[a],[b],[c],[d]])\n",
    "Psi = np.array( np.kron([0, 1], [1, 0]) )\n",
    "print(Psi)"
   ]
  },
  {
   "cell_type": "markdown",
   "metadata": {},
   "source": [
    "### 1 b) Multiply state $\\Psi$ and the matrix to create a new state $|\\Phi\\rangle$:\n",
    "\n",
    "$$\n",
    "    |\\Phi\\rangle = \n",
    "    \\begin{bmatrix}\n",
    "        1 & 0 & 0 & 0 \\\\\n",
    "        0 & 1 & 0 & 0 \\\\\n",
    "        0 & 0 & 0 & 1 \\\\\n",
    "        0 & 0 & 1 & 0\n",
    "     \\end{bmatrix}\n",
    "     | \\Psi \\rangle\n",
    "$$"
   ]
  },
  {
   "cell_type": "code",
   "execution_count": 45,
   "metadata": {},
   "outputs": [
    {
     "name": "stdout",
     "output_type": "stream",
     "text": [
      "[0 0 0 1]\n"
     ]
    }
   ],
   "source": [
    "# replace a,b,c,d with the integer values\n",
    "# Phi = np.array([[a],[b],[c],[d]])\n",
    "cx = [\n",
    "    [1, 0, 0, 0],\n",
    "    [0, 1, 0, 0],\n",
    "    [0, 0, 0, 1],\n",
    "    [0, 0, 1, 0]\n",
    "]\n",
    "Phi = np.array( np.dot(cx, Psi) )\n",
    "print(Phi)"
   ]
  },
  {
   "cell_type": "markdown",
   "metadata": {},
   "source": [
    "### Review (bonus questions)\n",
    "Here we created a 2 qubit state and applied our state to a 2 qubit gate. \n",
    "\n",
    "**What were the initial states? What were the ending states? What kind of gate is shown above?**"
   ]
  },
  {
   "cell_type": "markdown",
   "metadata": {},
   "source": [
    "<a id=\"q2\"></a>\n",
    "# Activity 2: Solving tensor products using numpy\n",
    "\n",
    "Now that we've got the hang of doing things by hand, let's do it in python!\n",
    "To perform the tensor product of $a$ and $b$ in python we use `np.kron(a,b)`. Kron is short for the Kronecker product, and advanced maths notation aside they will do the same matrix operation that we need.\n",
    "\n",
    "[Check out the documentation](https://numpy.org/doc/stable/reference/generated/numpy.kron.html)\n",
    "\n",
    "Since we have python to do the heavy lifting, let's do what we did earlier but generalise to more qubits:\n",
    "\n",
    "## Qiskit uses right indexing\n",
    "Part of qiskit's internal structure means that bit strings are always right indexed, that means $| q_3, q_2, q_1, q_0 \\rangle$ is representing the state of qubit 0 to qubit 3 from right to left.\n",
    "\n",
    "e.g. $|0010\\rangle$ means qubit 1 has been flipped\n",
    "\n",
    "### 2 a) Using  `np.kron(a,b)` print the matrix representing the follwoing:\n",
    "$$\n",
    "    |\\Psi \\rangle = \n",
    "    \\left(\\left(\\begin{bmatrix}\n",
    "        1 \\\\\n",
    "        0\n",
    "     \\end{bmatrix}\n",
    "     \\otimes\n",
    "      \\begin{bmatrix}\n",
    "        1 \\\\\n",
    "        0\n",
    "     \\end{bmatrix}\\right)\n",
    "     \\otimes\n",
    "      \\begin{bmatrix}\n",
    "        0 \\\\\n",
    "        1\n",
    "     \\end{bmatrix}\\right)\n",
    "     \\otimes\n",
    "      \\begin{bmatrix}\n",
    "        1 \\\\\n",
    "        0\n",
    "     \\end{bmatrix}\n",
    "$$"
   ]
  },
  {
   "cell_type": "code",
   "execution_count": 46,
   "metadata": {},
   "outputs": [
    {
     "name": "stdout",
     "output_type": "stream",
     "text": [
      "[0 0 1 0 0 0 0 0 0 0 0 0 0 0 0 0]\n"
     ]
    }
   ],
   "source": [
    "Psi = np.kron( np.kron( np.kron([1, 0], [1, 0]), [0, 1] ), [1, 0] )\n",
    "print(Psi)"
   ]
  },
  {
   "cell_type": "markdown",
   "metadata": {},
   "source": [
    "### 2 b) Using these matrix definitions of the CNOT gate and the Identity matrix\n",
    "$$\n",
    "    CNOT = \n",
    "    \\begin{bmatrix}\n",
    "        1 & 0 & 0 & 0 \\\\\n",
    "        0 & 1 & 0 & 0 \\\\\n",
    "        0 & 0 & 0 & 1 \\\\\n",
    "        0 & 0 & 1 & 0\n",
    "     \\end{bmatrix}\n",
    "$$\n",
    "\n",
    "$$\n",
    "    I = \n",
    "    \\begin{bmatrix}\n",
    "        1 & 0\\\\\n",
    "        0 & 1\n",
    "     \\end{bmatrix}\n",
    "$$\n",
    "\n",
    "###  and  `np.kron(a,b)` print the matrix representing the follwoing:\n",
    "\n",
    "$$\n",
    "    U = (I \\otimes I) \\otimes CNOT\n",
    "$$"
   ]
  },
  {
   "cell_type": "code",
   "execution_count": 47,
   "metadata": {},
   "outputs": [
    {
     "name": "stdout",
     "output_type": "stream",
     "text": [
      "[[1 0 0 0 0 0 0 0 0 0 0 0 0 0 0 0]\n",
      " [0 1 0 0 0 0 0 0 0 0 0 0 0 0 0 0]\n",
      " [0 0 0 1 0 0 0 0 0 0 0 0 0 0 0 0]\n",
      " [0 0 1 0 0 0 0 0 0 0 0 0 0 0 0 0]\n",
      " [0 0 0 0 1 0 0 0 0 0 0 0 0 0 0 0]\n",
      " [0 0 0 0 0 1 0 0 0 0 0 0 0 0 0 0]\n",
      " [0 0 0 0 0 0 0 1 0 0 0 0 0 0 0 0]\n",
      " [0 0 0 0 0 0 1 0 0 0 0 0 0 0 0 0]\n",
      " [0 0 0 0 0 0 0 0 1 0 0 0 0 0 0 0]\n",
      " [0 0 0 0 0 0 0 0 0 1 0 0 0 0 0 0]\n",
      " [0 0 0 0 0 0 0 0 0 0 0 1 0 0 0 0]\n",
      " [0 0 0 0 0 0 0 0 0 0 1 0 0 0 0 0]\n",
      " [0 0 0 0 0 0 0 0 0 0 0 0 1 0 0 0]\n",
      " [0 0 0 0 0 0 0 0 0 0 0 0 0 1 0 0]\n",
      " [0 0 0 0 0 0 0 0 0 0 0 0 0 0 0 1]\n",
      " [0 0 0 0 0 0 0 0 0 0 0 0 0 0 1 0]]\n"
     ]
    }
   ],
   "source": [
    "I = np.array([[1, 0], [0, 1]])\n",
    "\n",
    "U = np.kron( np.kron(I, I), cx )\n",
    "print(U)"
   ]
  },
  {
   "cell_type": "markdown",
   "metadata": {},
   "source": [
    "### 2 c) Lastly, using `np.dot(a,b)` find the statevector of $|\\Phi\\rangle$:\n",
    "\n",
    "$$\n",
    "    |\\Phi\\rangle = U |\\Psi\\rangle\n",
    "$$"
   ]
  },
  {
   "cell_type": "code",
   "execution_count": 48,
   "metadata": {},
   "outputs": [
    {
     "name": "stdout",
     "output_type": "stream",
     "text": [
      "[0 0 0 1 0 0 0 0 0 0 0 0 0 0 0 0]\n"
     ]
    }
   ],
   "source": [
    "Phi = np.dot(U, Psi)\n",
    "print(Phi)"
   ]
  },
  {
   "cell_type": "markdown",
   "metadata": {},
   "source": [
    "<a id=\"q3\"></a>\n",
    "# Activity 3: Unitary gate contruction in Qiskit\n",
    "\n",
    "Now that we have created our custom 4 qubit U gate we can pop it into qiskit and simulate!\n",
    "\n",
    "We need to use two new things:\n",
    "First we need to use the quantum operator class `q.quantum_info.Operator(U)` this takes a matrix U and makes it a proper operator.\n",
    "Next we need to make the operator into a gate using `qc.unitary(op, [a,b,c,d], label='U')` this function takes in three variables, `op` which is a quantum operator, `[a,b,c,d]` which is a string containing all the qubits this gate operates over and `label` which gives the gate a name.\n",
    "\n",
    "In our case we would like our U gate to operate over all 4 qubits:\n",
    "```\n",
    "op = q.quantum_info.Operator(U)\n",
    "qc.unitary(op, [0,1,2,3], label='U')\n",
    "```\n",
    "\n",
    "### We are using the statevector simulator and the circuit below which prepares the starting state from question 2:"
   ]
  },
  {
   "cell_type": "code",
   "execution_count": 29,
   "metadata": {},
   "outputs": [
    {
     "data": {
      "image/png": "[encoded data removed]",
      "text/plain": [
       "<Figure size 146.797x264.88 with 1 Axes>"
      ]
     },
     "metadata": {},
     "output_type": "display_data"
    }
   ],
   "source": [
    "# Statevector simulator use\n",
    "# This intialises the state described in Question 2\n",
    "qc = q.QuantumCircuit(4)\n",
    "qc.x(1)\n",
    "display(qc.draw(output=\"mpl\"))"
   ]
  },
  {
   "cell_type": "code",
   "execution_count": 30,
   "metadata": {},
   "outputs": [
    {
     "data": {
      "image/png": "[encoded data removed]",
      "text/plain": [
       "<Figure size 504x360 with 1 Axes>"
      ]
     },
     "metadata": {},
     "output_type": "display_data"
    },
    {
     "data": {
      "text/plain": [
       "array([0.+0.j, 0.+0.j, 1.+0.j, 0.+0.j, 0.+0.j, 0.+0.j, 0.+0.j, 0.+0.j,\n",
       "       0.+0.j, 0.+0.j, 0.+0.j, 0.+0.j, 0.+0.j, 0.+0.j, 0.+0.j, 0.+0.j])"
      ]
     },
     "metadata": {},
     "output_type": "display_data"
    }
   ],
   "source": [
    "# Show initial state and statevector \n",
    "# (rememeber qiskit writes the statevectors and bit strings backwards - right indexed)\n",
    "backend = q.Aer.get_backend('statevector_simulator')\n",
    "job = q.execute(qc, backend)\n",
    "result = job.result()\n",
    "out_state = result.get_statevector()\n",
    "counts = result.get_counts(qc)\n",
    "graph = q.visualization.plot_histogram(counts)\n",
    "display(graph)\n",
    "display(out_state)"
   ]
  },
  {
   "cell_type": "markdown",
   "metadata": {},
   "source": [
    "### 3 a) Use the operator class as described above to place our custom U gate into the circuit and simulate on the statevector simulator."
   ]
  },
  {
   "cell_type": "code",
   "execution_count": 31,
   "metadata": {
    "scrolled": true
   },
   "outputs": [
    {
     "data": {
      "image/png": "[encoded data removed]",
      "text/plain": [
       "<Figure size 206.997x264.88 with 1 Axes>"
      ]
     },
     "metadata": {},
     "output_type": "display_data"
    }
   ],
   "source": [
    "op = q.quantum_info.Operator(U)\n",
    "qc.unitary(op, [0, 1, 2, 3], label='U')\n",
    "\n",
    "display(qc.draw(output=\"mpl\"))"
   ]
  },
  {
   "cell_type": "code",
   "execution_count": 32,
   "metadata": {},
   "outputs": [
    {
     "data": {
      "image/png": "[encoded data removed]",
      "text/plain": [
       "<Figure size 504x360 with 1 Axes>"
      ]
     },
     "metadata": {},
     "output_type": "display_data"
    },
    {
     "data": {
      "text/plain": [
       "array([0.+0.j, 0.+0.j, 0.+0.j, 1.+0.j, 0.+0.j, 0.+0.j, 0.+0.j, 0.+0.j,\n",
       "       0.+0.j, 0.+0.j, 0.+0.j, 0.+0.j, 0.+0.j, 0.+0.j, 0.+0.j, 0.+0.j])"
      ]
     },
     "metadata": {},
     "output_type": "display_data"
    }
   ],
   "source": [
    "backend = q.Aer.get_backend('statevector_simulator')\n",
    "job = q.execute(qc, backend)\n",
    "result = job.result()\n",
    "out_state = result.get_statevector()\n",
    "counts = result.get_counts(qc)\n",
    "graph = q.visualization.plot_histogram(counts)\n",
    "display(graph)\n",
    "display(out_state)"
   ]
  },
  {
   "cell_type": "markdown",
   "metadata": {},
   "source": [
    "## Noise and Noise Simulation\n",
    "Unfortunately, quantum computers are not as perfect as our statevector simulator makes it out to be.\n",
    "\n",
    "In reality the quantum system is subject to random noise which can cause our quantum states to decohere - we can simulate these more realistic quantum systems using the `qasm_simulator`\n",
    "\n",
    "The `qasm_simulator` works very similarily to the `statevector_simulator` with two main differences:\n",
    "1. **The execute command requires a third argument `shots` - this tells the simulator how many times you want to run your circuit. (The more times you run the circuit, the closer you can approximate a perfect system.)**\n",
    "\n",
    "2. **The circuit must also have a measurement gate placed at the end of each qubit rail, this reads out to classical rails represented collectively as C.**\n",
    "\n",
    "When using `circ.measure(qubit_list, classical_list)` remember that the `qubit_list` is the list of all qubits that are being read out and the `classical_list` is the list of all classic bits that they are being read out to.\n",
    "\n",
    "Let's use the $\\Phi^+$ Bell state from last week as an example:"
   ]
  },
  {
   "cell_type": "code",
   "execution_count": 164,
   "metadata": {},
   "outputs": [
    {
     "data": {
      "image/png": "[encoded data removed]",
      "text/plain": [
       "<Figure size 418.992x204.68 with 1 Axes>"
      ]
     },
     "execution_count": 164,
     "metadata": {},
     "output_type": "execute_result"
    }
   ],
   "source": [
    "# Initialize a quantum circuit with 2 qubits and 2 classical bits\n",
    "phi_plus = q.QuantumCircuit(2, 2)\n",
    "phi_plus.h(0)\n",
    "phi_plus.cx(0, 1)\n",
    "phi_plus.measure([0,1], [0,1])\n",
    "phi_plus.draw(output=\"mpl\")"
   ]
  },
  {
   "cell_type": "markdown",
   "metadata": {},
   "source": [
    "We can now run the circuit through the simulator with 1000 shots, this should give us a good approximation of the ideal quantum state."
   ]
  },
  {
   "cell_type": "code",
   "execution_count": 165,
   "metadata": {},
   "outputs": [
    {
     "data": {
      "image/png": "[encoded data removed]",
      "text/plain": [
       "<Figure size 504x360 with 1 Axes>"
      ]
     },
     "execution_count": 165,
     "metadata": {},
     "output_type": "execute_result"
    }
   ],
   "source": [
    "simulator = q.Aer.get_backend('qasm_simulator')\n",
    "job = q.execute(phi_plus, simulator, shots=1000)\n",
    "result = job.result()\n",
    "counts = result.get_counts(phi_plus)\n",
    "q.visualization.plot_histogram(counts)"
   ]
  },
  {
   "cell_type": "markdown",
   "metadata": {},
   "source": [
    "<a id=\"q4\"></a>\n",
    "# Activity 4: The Qasm simulator\n",
    "\n",
    "### 4 a) Using the above walkthrough of the `qasm_simulator`, try and simulate the Phi- bell state from the last homework:\n",
    "$$\n",
    "| \\Phi^- \\rangle = \\frac{1}{\\sqrt{2}}(|00\\rangle - |11\\rangle \n",
    "$$\n",
    "\n",
    "Remember that this circuit must be defined with 2 classical and 2 quantum bits: `q.QuantumCircuit(2,2)`"
   ]
  },
  {
   "cell_type": "code",
   "execution_count": 35,
   "metadata": {},
   "outputs": [
    {
     "data": {
      "image/png": "[encoded data removed]",
      "text/plain": [
       "<Figure size 387.452x204.68 with 1 Axes>"
      ]
     },
     "execution_count": 35,
     "metadata": {},
     "output_type": "execute_result"
    }
   ],
   "source": [
    "phi_minus = q.QuantumCircuit(2, 2)\n",
    "phi_minus.x(0)\n",
    "phi_minus.h(0)\n",
    "phi_minus.cx(0, 1)\n",
    "\n",
    "phi_minus.measure([0, 1], [0, 1])\n",
    "phi_minus.draw(output=\"mpl\")"
   ]
  },
  {
   "cell_type": "code",
   "execution_count": 36,
   "metadata": {},
   "outputs": [
    {
     "data": {
      "image/png": "[encoded data removed]",
      "text/plain": [
       "<Figure size 504x360 with 1 Axes>"
      ]
     },
     "execution_count": 36,
     "metadata": {},
     "output_type": "execute_result"
    }
   ],
   "source": [
    "simulator = q.Aer.get_backend('qasm_simulator')\n",
    "job = q.execute(phi_minus, simulator, shots=1000)\n",
    "result = job.result()\n",
    "counts = result.get_counts(phi_minus)\n",
    "q.visualization.plot_histogram(counts)"
   ]
  },
  {
   "cell_type": "markdown",
   "metadata": {},
   "source": [
    "### 4b) Now that you're getting used to the noisy simulator, simualte the circuit from question 3 using the noisy simulator.\n",
    "\n",
    "This circuit should look very similar to the statevector simulator due to no superpositions occuring."
   ]
  },
  {
   "cell_type": "code",
   "execution_count": 39,
   "metadata": {},
   "outputs": [
    {
     "data": {
      "image/png": "[encoded data removed]",
      "text/plain": [
       "<Figure size 447.797x325.08 with 1 Axes>"
      ]
     },
     "metadata": {},
     "output_type": "display_data"
    }
   ],
   "source": [
    "# Statevector simulator use\n",
    "# This intialises the state described in Question 2\n",
    "qc = q.QuantumCircuit(4, 4)\n",
    "qc.x(1)\n",
    "\n",
    "op = q.quantum_info.Operator(U)\n",
    "qc.unitary(op, [0, 1, 2, 3], label='U')\n",
    "\n",
    "qc.measure([0, 1, 2, 3], [0, 1, 2, 3])\n",
    "\n",
    "display(qc.draw(output=\"mpl\"))"
   ]
  },
  {
   "cell_type": "code",
   "execution_count": 40,
   "metadata": {},
   "outputs": [
    {
     "data": {
      "image/png": "[encoded data removed]",
      "text/plain": [
       "<Figure size 504x360 with 1 Axes>"
      ]
     },
     "execution_count": 40,
     "metadata": {},
     "output_type": "execute_result"
    }
   ],
   "source": [
    "simulator = q.Aer.get_backend('qasm_simulator')\n",
    "job = q.execute(qc, simulator, shots=1000)\n",
    "result = job.result()\n",
    "counts = result.get_counts(qc)\n",
    "q.visualization.plot_histogram(counts)"
   ]
  },
  {
   "cell_type": "markdown",
   "metadata": {},
   "source": [
    "### © 2020 The Coding School\n",
    "\n",
    "**All rights reserved**\n",
    "\n",
    "*Use of this activity is for personal use only. Copying, reproducing, distributing, posting or sharing this activity in any manner with any third party are prohibited under the terms of this registration. All rights not specifically licensed under the registration are reserved.*"
   ]
  }
 ],
 "metadata": {
  "kernelspec": {
   "display_name": "Python 3",
   "language": "python",
   "name": "python3"
  },
  "language_info": {
   "codemirror_mode": {
    "name": "ipython",
    "version": 3
   },
   "file_extension": ".py",
   "mimetype": "text/x-python",
   "name": "python",
   "nbconvert_exporter": "python",
   "pygments_lexer": "ipython3",
   "version": "3.8.5"
  }
 },
 "nbformat": 4,
 "nbformat_minor": 4
}
