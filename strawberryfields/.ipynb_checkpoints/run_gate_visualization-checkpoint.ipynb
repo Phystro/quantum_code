{
  "cells": [
    {
      "cell_type": "code",
      "execution_count": null,
      "metadata": {
        "collapsed": false
      },
      "outputs": [],
      "source": [
        "# This cell is added by sphinx-gallery\n# It can be customized to whatever you like\n%matplotlib inline"
      ]
    },
    {
      "cell_type": "markdown",
      "metadata": {},
      "source": [
        "\nCV quantum gate visualizations\n==============================\n"
      ]
    },
    {
      "cell_type": "markdown",
      "metadata": {},
      "source": [
        "*Author: Brianna Gopaul*\n\n\n"
      ]
    },
    {
      "cell_type": "markdown",
      "metadata": {},
      "source": [
        "In a conventional quantum circuit, qubits represented by wires are\noperated on by quantum gates which collectively perform computations.\nSimilarily, continuous variable quantum computing uses qumodes that\nrepresent bundles of interacting photons. To perform computations on\nqumodes, we leverage Gaussian and non-Gaussian gates.\n\nGaussian and non-Gaussian gates can be described within the phase space.\nThis space is shown by the position and momentum axes.\n\nGaussian gates such as the squeezing and rotation gate act linearly on\nmodes. These gates can only reach positive quasi-probability\ndistributions and can be classically simulated. On the other hand,\nnon-Gaussian gates such as the Kerr gate and Cubic Phase gate act\nnonlinearly. This property allows them to be in negative\nquasi-probability distributions and not be classically simulated.\n\n**In this notebook, we\u2019ll learn about various single mode Gaussian and\nnon-Gaussian gates and apply them to a state using Strawberry Fields.**\n\n\n"
      ]
    },
    {
      "cell_type": "code",
      "execution_count": null,
      "metadata": {
        "collapsed": false
      },
      "outputs": [],
      "source": [
        "import strawberryfields as sf\nfrom strawberryfields.ops import *\n\nimport numpy as np\nimport matplotlib.pyplot as plt\nfrom mpl_toolkits.mplot3d import Axes3D"
      ]
    },
    {
      "cell_type": "markdown",
      "metadata": {},
      "source": [
        "Vacuum State\n------------\n\n\n"
      ]
    },
    {
      "cell_type": "markdown",
      "metadata": {},
      "source": [
        "The vacuum state is the lowest energy Gaussian state. It has no\ndisplacement or squeezing in phase space.\n\n\n"
      ]
    },
    {
      "cell_type": "markdown",
      "metadata": {},
      "source": [
        "Here we learn how to create the vacuum state on a quantum circuit with\none qumode.\n\n\n"
      ]
    },
    {
      "cell_type": "markdown",
      "metadata": {},
      "source": [
        "We initialize the Strawberry Fields program. ``q`` represents a qumode\nand below we start with one qumode for our circuit.\n\n\n"
      ]
    },
    {
      "cell_type": "code",
      "execution_count": null,
      "metadata": {
        "collapsed": false
      },
      "outputs": [],
      "source": [
        "prog = sf.Program(1)"
      ]
    },
    {
      "cell_type": "markdown",
      "metadata": {},
      "source": [
        "We declare our quantum circuit using the engine. We can prepare the\nVacuum state on one qumode using ``|``.\n\n\n"
      ]
    },
    {
      "cell_type": "code",
      "execution_count": null,
      "metadata": {
        "collapsed": false
      },
      "outputs": [],
      "source": [
        "with prog.context as q:\n    Vac | q[0]\n\neng = sf.Engine('gaussian')\nstate = eng.run(prog).state"
      ]
    },
    {
      "cell_type": "markdown",
      "metadata": {},
      "source": [
        "It should be noted that the default state in strawberry fields is the\nvacuum state. The above gate is listed to show the operation.\n\n\n"
      ]
    },
    {
      "cell_type": "markdown",
      "metadata": {},
      "source": [
        "In Strawberry Fields, there are three main backends that can be used to\nperform computations. The backend selected will depend on the task you\nwant to perform. Above, we\u2019ve used the Gaussian backend to run our\nvacuum state circuit. We can also alternatively use the Fock backend to\nrun the circuit. The third backend is the tensorflow backend \u2018tf\u2019. It\nleverages tensorflow to create quantum machine learning models.\n\n\n"
      ]
    },
    {
      "cell_type": "markdown",
      "metadata": {},
      "source": [
        "Using matplotlib, we then plot the Wigner function of the vacuum state,\nwhich is a Gaussian distribution. The Wigner function quasi-probability\nillustrates negative and positive regions in phase space. We\u2019ll notice\nbelow that Gaussian states such as the vacuum and squeezed state are in\npositive regions of phase space while non-Gaussian states can reach\nnegative regions of the phase space. The y-axis on this plot can\ndescribe the $\\hat {p}$ quadrature or momentum operator and the\nx-axis describes the $\\hat{x}$ quadrature or position operator of\nthe state.\n\n\n"
      ]
    },
    {
      "cell_type": "code",
      "execution_count": null,
      "metadata": {
        "collapsed": false
      },
      "outputs": [],
      "source": [
        "fig = plt.figure()\nX = np.linspace(-5, 5, 100)\nP = np.linspace(-5, 5, 100)\nZ = state.wigner(0, X, P)\nX, P = np.meshgrid(X, P)\nax = fig.add_subplot(111, projection=\"3d\")\nax.plot_surface(X, P, Z, cmap=\"RdYlGn\", lw=0.5, rstride=1, cstride=1)\nfig.set_size_inches(4.8, 5)\nax.set_axis_off()"
      ]
    },
    {
      "cell_type": "markdown",
      "metadata": {},
      "source": [
        "We can make a couple of observations from the Gaussian distribution\nabove. We notice that it has positive quasi-probability everywhere.\nLater on, we\u2019ll have a look at non-Gaussian gates that have regions of\nnegative quasi-probability. The vacuum state is also centered at 0 on\nboth the position axis $\\hat {x}$ and momentum axis\n$\\hat {p}$.\n\n\n"
      ]
    },
    {
      "cell_type": "markdown",
      "metadata": {},
      "source": [
        "Squeezing Gate\n--------------\n\n\n"
      ]
    },
    {
      "cell_type": "markdown",
      "metadata": {},
      "source": [
        "The squeezing gate can also be thought of as a transformation on the\nposition and momentum axes. The squeezing gate scales $x$ to\n$e^{ - r}\\hat{x} _\\phi$ and scales $p$ with\n$e^{r}\\hat{p} _\\phi$. In the Wigner function, we can see the\nprobability distribution being lengthened on the momentum axis and being\npinched on the position axis. As the squeezing gate is a Gaussian gate,\nthere are no regions of negative quasi-probabilty.\n\n\n"
      ]
    },
    {
      "cell_type": "code",
      "execution_count": null,
      "metadata": {
        "collapsed": false
      },
      "outputs": [],
      "source": [
        "prog = sf.Program(1)\nwith prog.context as q:\n    S = Sgate(1)\n    S | q[0]\n\n\nstate = eng.run(prog).state\nfig = plt.figure()\nX = np.linspace(-5, 5, 100)\nP = np.linspace(-5, 5, 100)\nZ = state.wigner(0, X, P)\nX, P = np.meshgrid(X, P)\nax = fig.add_subplot(111, projection=\"3d\")\nfig.set_size_inches(4.8, 5)\nax.plot_surface(X, P, Z, cmap=\"RdYlGn\", lw=0.5, rstride=1, cstride=1)\nax.set_axis_off()"
      ]
    },
    {
      "cell_type": "markdown",
      "metadata": {},
      "source": [
        "The below animation shows the squeezing gate acting on the vacuum state\nwith increasing strengths of parameters. |squeezing|\n\n.. |squeezing| image:: /tutorials/images/squeezinggif.gif\n\n\n\n"
      ]
    },
    {
      "cell_type": "markdown",
      "metadata": {},
      "source": [
        "Rotation Gate\n-------------\n\n\n"
      ]
    },
    {
      "cell_type": "markdown",
      "metadata": {},
      "source": [
        "The rotation gate shifts the $\\hat{x}$ quadrature to\n$\\hat{x}$ $\\cos \\phi$ - $\\hat{p}\\sin$ $\\phi$ and\n$\\hat{p}$ to $\\hat{p}$ $\\cos \\phi$ +\n$\\hat{x}\\sin$ $\\phi$. In other words, the gate simply\nrotates the phase space.\n\n\n"
      ]
    },
    {
      "cell_type": "code",
      "execution_count": null,
      "metadata": {
        "collapsed": false
      },
      "outputs": [],
      "source": [
        "prog = sf.Program(1)\nwith prog.context as q:\n    Dgate(1) | q[0]\n    Rgate(np.pi/2) | q[0]\n\neng.reset()\nstate = eng.run(prog).state\nfig = plt.figure()\nX = np.linspace(-5, 5, 100)\nP = np.linspace(-5, 5, 100)\nZ = state.wigner(0, X, P)\nX, P = np.meshgrid(X, P)\nax = fig.add_subplot(111, projection=\"3d\")\nax.plot_surface(X, P, Z, cmap=\"RdYlGn\", lw=0.5, rstride=1, cstride=1)\nfig.set_size_inches(4.8, 5)\nax.set_axis_off()"
      ]
    },
    {
      "cell_type": "markdown",
      "metadata": {},
      "source": [
        "Above we apply the rotation gate to a coherent state. When compared to\nthe squeezed state in the previous example, the rotation gate simply\nmakes a rotation.\n\n\n"
      ]
    },
    {
      "cell_type": "markdown",
      "metadata": {},
      "source": [
        "Similarily, the rotation gate is applied with an increasing parameter in\nthe below animation. |rotation|\n\n.. |rotation| image:: /tutorials/images/rotation.gif\n\n\n\n"
      ]
    },
    {
      "cell_type": "markdown",
      "metadata": {},
      "source": [
        "Displacement Gate\n-----------------\n\n\n"
      ]
    },
    {
      "cell_type": "markdown",
      "metadata": {},
      "source": [
        "The displacement gate has a specified complex value $\\alpha$. It\nshifts $\\hat{x}$ by a value porportional to $Re(\\alpha)$ and\nthe $\\hat {p}$ by a value $Im({\\alpha})$.\n\n\n"
      ]
    },
    {
      "cell_type": "code",
      "execution_count": null,
      "metadata": {
        "collapsed": false
      },
      "outputs": [],
      "source": [
        "prog = sf.Program(1)\nwith prog.context as q:\n    Dgate(0.55) | q[0]\n\neng.reset()\nstate = eng.run(prog).state\nfig = plt.figure()\nX = np.linspace(-5, 5, 100)\nP = np.linspace(-5, 5, 100)\nZ = state.wigner(0, X, P)\nX, P = np.meshgrid(X, P)\nax = fig.add_subplot(111, projection=\"3d\")\nax.plot_surface(X, P, Z, cmap=\"RdYlGn\", lw=0.5, rstride=1, cstride=1)\nfig.set_size_inches(4.8, 5)\nax.set_axis_off()"
      ]
    },
    {
      "cell_type": "markdown",
      "metadata": {},
      "source": [
        "As $\\alpha$ increases in value, the state is displaced more to the\nright. |disp|\n\n.. |disp| image:: /tutorials/images/displacementgif.gif\n\n\n\n"
      ]
    },
    {
      "cell_type": "markdown",
      "metadata": {},
      "source": [
        "Cubic Phase Gate\n----------------\n\n\n"
      ]
    },
    {
      "cell_type": "markdown",
      "metadata": {},
      "source": [
        "The cubic phase gate shifts $\\hat{p}$ by $\\gamma\\hat{x}^2$\nwhere $\\gamma$ is a definable parameter but does not transform\n$\\hat{x}$ in the phase space. Below, we decide to set\n$\\gamma=2$.\n\n\n"
      ]
    },
    {
      "cell_type": "markdown",
      "metadata": {},
      "source": [
        "When running a circuit that contains any non-Gaussian gates, we use the\nFock backend. Depending on the backend used, different arguments will\nhave to be called. In this example, we define \u2018cutoff_dim\u2019 which tells\nStrawberry Fields where to limit the Fock space.\n\n\n"
      ]
    },
    {
      "cell_type": "code",
      "execution_count": null,
      "metadata": {
        "collapsed": false
      },
      "outputs": [],
      "source": [
        "prog = sf.Program(1)\nwith prog.context as q:\n    gamma = 2\n    Vgate(gamma) | q[0]\n\n#We use the fock backend and define the argument cutoff_dim\neng = sf.Engine('fock', backend_options={\"cutoff_dim\": 10})\nstate = eng.run(prog).state\n\nfig = plt.figure()\nX = np.linspace(-5, 5, 100)\nP = np.linspace(-5, 5, 100)\nZ = state.wigner(0, X, P)\nX, P = np.meshgrid(X, P)\nax = fig.add_subplot(111, projection=\"3d\")\nax.plot_surface(X, P, Z, cmap=\"RdYlGn\", lw=0.5, rstride=1, cstride=1)\nfig.set_size_inches(4.8, 5)\nax.set_axis_off()"
      ]
    },
    {
      "cell_type": "markdown",
      "metadata": {},
      "source": [
        "Here we can see that the vacuum state has been shifted to a state where\nit reaches negative quasi-probability distributions. |cubic|\n\n.. |cubic| image:: /tutorials/images/cubicphasegif.gif\n\n\n\n"
      ]
    },
    {
      "cell_type": "markdown",
      "metadata": {},
      "source": [
        "Kerr Gate\n---------\n\n\n"
      ]
    },
    {
      "cell_type": "markdown",
      "metadata": {},
      "source": [
        "Before we understand how the Kerr gate operates, we should first take\nanother look at the rotation gate. In the Fock basis, the rotation gate\nacts with $e^{ i\\phi \\hat{n}}$. In comparison, the Kerr gates\ntransforms with $e^{ i\\phi k \\hat{n}^2}$. The $^2$ value is\nwhat makes this state non-Gaussian and thus transforms the shape of the\nstate significantly.\n\n\n"
      ]
    },
    {
      "cell_type": "code",
      "execution_count": null,
      "metadata": {
        "collapsed": false
      },
      "outputs": [],
      "source": [
        "prog = sf.Program(1)\nwith prog.context as q:\n    kappa = 1\n    Dgate(1) | q[0]\n    Kgate(kappa) | q[0]\n\neng.reset()\nstate = eng.run(prog).state\n\nfig = plt.figure()\nX = np.linspace(-5, 5, 100)\nP = np.linspace(-5, 5, 100)\nZ = state.wigner(0, X, P)\nX, P = np.meshgrid(X, P)\nax = fig.add_subplot(111, projection=\"3d\")\nax.plot_surface(X, P, Z, cmap=\"RdYlGn\", lw=0.5, rstride=1, cstride=1)\nfig.set_size_inches(4.8, 5)\nax.set_axis_off()"
      ]
    },
    {
      "cell_type": "markdown",
      "metadata": {},
      "source": [
        "In the below Wigner function, the state is initially in a coherent\nstate. |kerr|\n\nWe can see it\u2019s coherent structure morphing after the Kerr gate is\napplied at different strengths.\n\n.. |kerr| image:: /tutorials/images/kerrgif.gif\n\n\n\n"
      ]
    },
    {
      "cell_type": "markdown",
      "metadata": {},
      "source": [
        "For more information about CV gates, see `the CV gates\nsection <https://strawberryfields.ai/photonics/conventions/gates.html>`__\nin the Strawberry Fields documentation.\n\n\n"
      ]
    }
  ],
  "metadata": {
    "kernelspec": {
      "display_name": "Python 3",
      "language": "python",
      "name": "python3"
    },
    "language_info": {
      "codemirror_mode": {
        "name": "ipython",
        "version": 3
      },
      "file_extension": ".py",
      "mimetype": "text/x-python",
      "name": "python",
      "nbconvert_exporter": "python",
      "pygments_lexer": "ipython3",
      "version": "3.7.2"
    }
  },
  "nbformat": 4,
  "nbformat_minor": 0
}