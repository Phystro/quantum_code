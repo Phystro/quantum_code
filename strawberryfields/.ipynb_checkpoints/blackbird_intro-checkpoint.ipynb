{
 "cells": [
  {
   "cell_type": "markdown",
   "id": "d4aad4d5-c0f6-41a8-aca4-cd8c4b9e7c88",
   "metadata": {},
   "source": [
    "# State Preparation"
   ]
  },
  {
   "cell_type": "markdown",
   "id": "b21d69b9-c0ae-4e7e-bd65-bf85e561ecbb",
   "metadata": {},
   "source": [
    "### State preparation operators\n",
    "- Vacuum\n",
    "- Fock\n",
    "- Coherent\n",
    "- Squeezed\n",
    "- DisplacedSqueezed\n",
    "- Thermal"
   ]
  },
  {
   "cell_type": "code",
   "execution_count": 13,
   "id": "ed6ce9bc-6d3d-412d-a918-ba6dde9fa77b",
   "metadata": {},
   "outputs": [],
   "source": [
    "import numpy as np\n",
    "import strawberryfields as sf\n",
    "from strawberryfields.ops import *\n",
    "\n",
    "prog = sf.Program(3)\n",
    "\n",
    "with prog.context as q:\n",
    "    # State preparation\n",
    "    Fock(1) | q[0]    # prepare single photon state in qumode q[0]\n",
    "    Coherent(0.5, 2) | q[1]    # coherent state with a = 0.5 + 2i in qumode q[1]"
   ]
  },
  {
   "cell_type": "markdown",
   "id": "91a05881-21f8-41b8-b97e-f7080e8b204a",
   "metadata": {},
   "source": [
    "##### construct a state preparation operator"
   ]
  },
  {
   "cell_type": "code",
   "execution_count": 7,
   "id": "acfa773f-0648-4dac-bb79-6bf88291bc3c",
   "metadata": {},
   "outputs": [],
   "source": [
    "with prog.context as q:\n",
    "    S = Squeezed(1)\n",
    "    S | q[0]\n",
    "    S | q[1]"
   ]
  },
  {
   "cell_type": "markdown",
   "id": "62978b25-9723-4a9d-a83d-17a5943ab5f9",
   "metadata": {},
   "source": [
    "### Gate Application"
   ]
  },
  {
   "cell_type": "code",
   "execution_count": 8,
   "id": "185ce10c-624d-4fce-a366-db17e47d0545",
   "metadata": {},
   "outputs": [],
   "source": [
    "with prog.context as q:\n",
    "    # apply displacement gate to qumode 0\n",
    "    alpha = 2.0 + 1j\n",
    "    Dgate(np.abs(alpha), np.angle(alpha)) | q[0]\n",
    "    \n",
    "    # apply the rotation gate\n",
    "    phi = 3.14/2\n",
    "    Rgate(phi) | q[0]\n",
    "    \n",
    "    # apply the squeezing gate\n",
    "    Sgate(2.0, 0.17) | q[0]\n",
    "    \n",
    "    # apply the beamsplitter gate to qumodes 0 & 1\n",
    "    BSgate(3.14/10, 0.223) | (q[0], q[1])\n",
    "    \n",
    "    # apply the cubic phase gate (VGate) to qumode 0\n",
    "    gamma = 0.1\n",
    "    Vgate(gamma) | q[0]\n",
    "    \n",
    "    # apply the Hermitian conjugate of a gate operator\n",
    "    V = Vgate(gamma)\n",
    "    V.H | q[0]"
   ]
  },
  {
   "cell_type": "markdown",
   "id": "d4398e28-7775-4649-9bb1-06cf110c0451",
   "metadata": {},
   "source": [
    "### Measurements"
   ]
  },
  {
   "cell_type": "code",
   "execution_count": 12,
   "id": "694f200c-ae70-495c-a8ea-a36bc4544cdb",
   "metadata": {},
   "outputs": [],
   "source": [
    "with prog.context as q:\n",
    "    # Homodyne measurement at angle phi\n",
    "    phi = 0.25 + 3.14\n",
    "    MeasureHomodyne(phi) | q[0]\n",
    "    \n",
    "    # Special homodyne measurements\n",
    "    MeasureX | q[0]\n",
    "    MeasureP | q[1]\n",
    "    \n",
    "    # Heterodyne measurement\n",
    "    MeasureHeterodyne() | q[0]\n",
    "    MeasureHD | q[1]    # shorthand\n",
    "    \n",
    "    # Number state measurements of various qumodes\n",
    "    MeasureFock() | q[0]\n",
    "    MeasureFock() | (q[1], q[2]) # multiple modes"
   ]
  },
  {
   "cell_type": "code",
   "execution_count": null,
   "id": "e32395ba-b20b-42c9-bfb0-2bf8186aa4b0",
   "metadata": {},
   "outputs": [],
   "source": []
  }
 ],
 "metadata": {
  "kernelspec": {
   "display_name": "quantum",
   "language": "python",
   "name": "quantum"
  },
  "language_info": {
   "codemirror_mode": {
    "name": "ipython",
    "version": 3
   },
   "file_extension": ".py",
   "mimetype": "text/x-python",
   "name": "python",
   "nbconvert_exporter": "python",
   "pygments_lexer": "ipython3",
   "version": "3.9.4"
  }
 },
 "nbformat": 4,
 "nbformat_minor": 5
}
