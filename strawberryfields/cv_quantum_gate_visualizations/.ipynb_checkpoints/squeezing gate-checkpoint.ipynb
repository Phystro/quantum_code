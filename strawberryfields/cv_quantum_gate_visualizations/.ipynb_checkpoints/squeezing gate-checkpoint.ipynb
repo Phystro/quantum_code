{
 "cells": [
  {
   "cell_type": "markdown",
   "id": "3c844f2a-bdc4-4e7a-ac6f-71140b9f6f22",
   "metadata": {},
   "source": [
    "## Squeezing Gate\n",
    "\n",
    "Can be thought of as transformation on position and momentum axes."
   ]
  },
  {
   "cell_type": "code",
   "execution_count": 13,
   "id": "92cb1c63-0bd6-45e2-a1f6-df59d7e27975",
   "metadata": {},
   "outputs": [],
   "source": [
    "import strawberryfields as sf\n",
    "from strawberryfields.ops import *\n",
    "\n",
    "import numpy as np\n",
    "import matplotlib.pyplot as plt\n",
    "from mpl_toolkits.mplot3d import Axes3D"
   ]
  },
  {
   "cell_type": "code",
   "execution_count": 14,
   "id": "83fff61f-b74d-4062-8974-ea361bfc7656",
   "metadata": {},
   "outputs": [],
   "source": [
    "prog = sf.Program(1)\n",
    "\n",
    "with prog.context as q:\n",
    "    S = Sgate(1)\n",
    "    S | q[0]"
   ]
  },
  {
   "cell_type": "code",
   "execution_count": 15,
   "id": "636792d8-71c3-459a-954f-1d43cc22c707",
   "metadata": {},
   "outputs": [],
   "source": [
    "eng = sf.Engine('gaussian')\n",
    "state = eng.run(prog).state"
   ]
  },
  {
   "cell_type": "code",
   "execution_count": 16,
   "id": "4d251621-e2de-4d7e-9810-ceaae1283c34",
   "metadata": {},
   "outputs": [],
   "source": [
    "fig = plt.Figure()\n",
    "\n",
    "X = np.linspace(-5, 5, 100)\n",
    "P = np.linspace(-5, 5, 100)\n",
    "\n",
    "Z = state.wigner(0, X, P)\n",
    "X, P = np.meshgrid(X, P)\n",
    "\n",
    "ax = fig.add_subplot(111, projection=\"3d\")\n",
    "ax.plot_surface(X, P, Z, cmap=\"RdYlGn\", lw=0.5, rstride=1, cstride=1)\n",
    "\n",
    "fig.set_size_inches(4.8, 5)\n",
    "ax.set_axis_off()"
   ]
  },
  {
   "cell_type": "code",
   "execution_count": null,
   "id": "f8b16522-9e56-456f-bad1-8f99e1bfe72b",
   "metadata": {},
   "outputs": [],
   "source": []
  }
 ],
 "metadata": {
  "kernelspec": {
   "display_name": "quantum",
   "language": "python",
   "name": "quantum"
  },
  "language_info": {
   "codemirror_mode": {
    "name": "ipython",
    "version": 3
   },
   "file_extension": ".py",
   "mimetype": "text/x-python",
   "name": "python",
   "nbconvert_exporter": "python",
   "pygments_lexer": "ipython3",
   "version": "3.9.4"
  }
 },
 "nbformat": 4,
 "nbformat_minor": 5
}
