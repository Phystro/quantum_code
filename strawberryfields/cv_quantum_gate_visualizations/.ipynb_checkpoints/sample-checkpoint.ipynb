{
 "cells": [
  {
   "cell_type": "code",
   "execution_count": 2,
   "id": "27e4cc12-5cce-413f-9bcf-de6ece20bccc",
   "metadata": {},
   "outputs": [],
   "source": [
    "import numpy as np\n",
    "import matplotlib.pyplot as plt\n",
    "import matplotlib.animation as animation"
   ]
  },
  {
   "cell_type": "code",
   "execution_count": 3,
   "id": "cb36785c-7fe4-4ff3-96c5-bc4fccada63a",
   "metadata": {},
   "outputs": [],
   "source": [
    "def func(t, line):\n",
    "    t = np.arange(0, t, 0.1)\n",
    "    y = np.sin(t)\n",
    "    line.set_data(t, y)\n",
    "    return line"
   ]
  },
  {
   "cell_type": "code",
   "execution_count": null,
   "id": "76eb511b-f8ea-4e29-8253-531fc583e11f",
   "metadata": {},
   "outputs": [],
   "source": [
    "fig = plt.figure()\n",
    "ax = plt.axes(xlim=(0, 100), ylim=(-1.2, 1.22))\n",
    "\n",
    "redDots = plt.plot([], [], 'ro')\n",
    "line = plt.plot([], [], lw=2)\n",
    "\n",
    "line_anim = animation.FuncAnimation(fig, func, frames=np.arange(1, 100, 0.1), fargs=(line), interval=30, blit=False)\n",
    "\n",
    "plt.rcParams['animation.html'] = 'html5'\n",
    "line_anim"
   ]
  }
 ],
 "metadata": {
  "kernelspec": {
   "display_name": "quantum",
   "language": "python",
   "name": "quantum"
  },
  "language_info": {
   "codemirror_mode": {
    "name": "ipython",
    "version": 3
   },
   "file_extension": ".py",
   "mimetype": "text/x-python",
   "name": "python",
   "nbconvert_exporter": "python",
   "pygments_lexer": "ipython3",
   "version": "3.9.4"
  }
 },
 "nbformat": 4,
 "nbformat_minor": 5
}
