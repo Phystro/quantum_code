{
 "cells": [
  {
   "cell_type": "code",
   "execution_count": 9,
   "id": "4c936a4f-1492-4cc8-8463-816151328095",
   "metadata": {},
   "outputs": [],
   "source": [
    "import numpy as np\n",
    "import strawberryfields as sf\n",
    "from strawberryfields.ops import *\n",
    "\n",
    "import matplotlib.pyplot as plt\n",
    "import matplotlib.animation as animation\n",
    "from matplotlib import cm\n",
    "from mpl_toolkits.mplot3d import Axes3D"
   ]
  },
  {
   "cell_type": "code",
   "execution_count": 10,
   "id": "7d31264c-4364-42c5-8d7e-ad7d72bd8f37",
   "metadata": {},
   "outputs": [],
   "source": [
    "def update(i):\n",
    "    ax = fig.add_subplot(111, projection=\"3d\")\n",
    "    ax.set_axis_off()\n",
    "    \n",
    "    prog = sf.Program(1)   # one qumode circuit\n",
    "    eng = sf.Engine('gaussian')    # initialize engine for circuit\n",
    "    \n",
    "    X = np.linspace(-20, 20, 400)\n",
    "    P = np.linspace(-20, 20, 400)\n",
    "\n",
    "    with prog.context as q:\n",
    "        Vac | q[0]\n",
    "        Dgate(i/100) | q[0]\n",
    "        Rgate( (i/10) * np.pi/2) | q[0]\n",
    "    \n",
    "    state = gen_state(eng, prog)\n",
    "    print(\"Run:\", i)\n",
    "    Z = state.wigner(0, X, P)\n",
    "    X, P = np.meshgrid(X, P)\n",
    "    surface = ax.plot_surface(X, P, Z, cmap='jet', lw=0.5, rstride=1, cstride=1, linewidth=0, antialiased=True)\n",
    "\n",
    "    return surface\n",
    "\n",
    "def gen_state(eng=None, prog=None):\n",
    "    state = eng.run(prog).state\n",
    "    return state"
   ]
  },
  {
   "cell_type": "code",
   "execution_count": 11,
   "id": "ea502c22-76c0-4468-a01c-88f43efcee97",
   "metadata": {},
   "outputs": [],
   "source": []
  },
  {
   "cell_type": "code",
   "execution_count": 12,
   "id": "13100138-3a1b-48c6-a661-5b68e39dd8db",
   "metadata": {},
   "outputs": [
    {
     "name": "stdout",
     "output_type": "stream",
     "text": [
      "Run: 0\n",
      "Run: 0\n",
      "Run: 1\n",
      "Run: 2\n",
      "Run: 3\n",
      "Run: 4\n",
      "Run: 5\n",
      "Run: 6\n",
      "Run: 7\n",
      "Run: 8\n",
      "Run: 9\n"
     ]
    },
    {
     "data": {
      "image/png": "[encoded data removed]",
      "text/plain": [
       "<Figure size 432x288 with 11 Axes>"
      ]
     },
     "metadata": {
      "needs_background": "light"
     },
     "output_type": "display_data"
    }
   ],
   "source": [
    "fig = plt.figure()\n",
    "\n",
    "surface_anim = animation.FuncAnimation(fig, update, interval=100, repeat=True,  frames=10, blit=False)\n",
    "#surface_anim = animation.ArtistAnimation(fig, ims, interval=30, blit=True)\n",
    "\n",
    "\n",
    "# fig.set_size_inches(4.8, 5)\n",
    "#ax.set_axis_off()\n",
    "\n",
    "# save the animation\n",
    "fn = \"sample\"\n",
    "surface_anim.save(fn+\".mp4\", writer=\"ffmpeg\", fps=10)\n",
    "\n",
    "# show animation in notebook\n",
    "#plt.rcParams['animation.html'] = 'html5'\n",
    "#surface_anim\n",
    "\n",
    "plt.show()"
   ]
  },
  {
   "cell_type": "code",
   "execution_count": null,
   "id": "dc03d9d7-aceb-4845-877a-6c8fd366f9af",
   "metadata": {},
   "outputs": [],
   "source": []
  }
 ],
 "metadata": {
  "kernelspec": {
   "display_name": "quantum",
   "language": "python",
   "name": "quantum"
  },
  "language_info": {
   "codemirror_mode": {
    "name": "ipython",
    "version": 3
   },
   "file_extension": ".py",
   "mimetype": "text/x-python",
   "name": "python",
   "nbconvert_exporter": "python",
   "pygments_lexer": "ipython3",
   "version": "3.9.4"
  }
 },
 "nbformat": 4,
 "nbformat_minor": 5
}
