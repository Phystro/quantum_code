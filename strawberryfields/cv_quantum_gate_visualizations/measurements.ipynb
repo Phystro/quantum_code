{
 "cells": [
  {
   "cell_type": "markdown",
   "id": "f3361cbe-2e65-4219-9fcf-46ea9ca3df9a",
   "metadata": {},
   "source": [
    "# **Measurements**\n",
    "\n",
    "Measurements operators\n",
    "- Photon counting\n",
    "- Homodyne detection of quadratice angle $\\phi$\n",
    "- Heterodyne detection\n",
    "\n",
    "---\n",
    "**Note**: All backends support homodyne detection\n",
    "\n",
    "---\n",
    "\n",
    "## **Post-selection**\n",
    "\n",
    "Allowing for specification or post-selection of a required measurement output, and conditioning the remaining unmeasured modes based on this post-selected value.\n",
    "\n",
    "Post-selection option should be an integer (or list of integers) for MeasureFock, a float for MeasureHomodyne, and a complex value for MeasureHeterodyne."
   ]
  },
  {
   "cell_type": "code",
   "execution_count": 1,
   "id": "32314e0c-893c-41ac-8a16-a85ca98cf2d2",
   "metadata": {},
   "outputs": [],
   "source": [
    "import strawberryfields as sf\n",
    "from strawberryfields.ops import *\n",
    "\n",
    "import numpy as np\n",
    "import matplotlib.pyplot as plt\n",
    "from matplotlib import cm\n",
    "from mpl_toolkits.mplot3d import Axes3D"
   ]
  },
  {
   "cell_type": "markdown",
   "id": "68c88b64-323f-405a-8be7-db97bfd0b929",
   "metadata": {},
   "source": [
    "## **Homodyne measurement**"
   ]
  },
  {
   "cell_type": "markdown",
   "id": "5fd8a83e-d61c-424a-a19e-77865e61a7ec",
   "metadata": {},
   "source": [
    "$\\newcommand{\\ket}[1]{|#1\\rangle}$\n",
    "$\\newcommand{\\bra}[1]{\\langle#1|}$\n",
    "\n",
    "Gaussian projective measurement given by projecting the state onto the states $\\ket{x_\\phi}\\bra{x_\\phi}$\n",
    "\n",
    "Operations:\n",
    "- MeasureHomodyne(phi=0) or MeasureX or MeasureP\n",
    "\n",
    "Backend support:\n",
    "- \"fock\"\n",
    "- \"tf\"\n",
    "- \"gaussian\""
   ]
  },
  {
   "cell_type": "code",
   "execution_count": 55,
   "id": "6e34f2bd-641a-4de7-b27c-8ec477545591",
   "metadata": {},
   "outputs": [],
   "source": [
    "prog = sf.Program(2)\n",
    "eng = sf.Engine(\"gaussian\")\n",
    "\n",
    "with prog.context as q:\n",
    "    S2gate(1) | (q[0], q[1])   # two-mode squeezed gate\n",
    "    # homodyne detection in the x quadrature of the first iutout mode\n",
    "    # resultingly, output of mode q[1] is conditionally displaced depending\n",
    "    # on the measured value\n",
    "    MeasureHomodyne(0, select=1) | q[0]\n",
    "    \n",
    "state = eng.run(prog).state"
   ]
  },
  {
   "cell_type": "markdown",
   "id": "cc62b074-fe96-4fb5-937e-b69b4824edb6",
   "metadata": {},
   "source": [
    "check displacement of the second output mode we use `reduced_gaussian()` state method to extract the vector of means and the covariance matrix:"
   ]
  },
  {
   "cell_type": "code",
   "execution_count": 48,
   "id": "be07a5f5-3eaa-4691-8fe7-df6f2c79fa05",
   "metadata": {},
   "outputs": [],
   "source": [
    "mu, cov = state.reduced_gaussian([1])"
   ]
  },
  {
   "cell_type": "markdown",
   "id": "0ca8a98e-ee2b-49bd-a71a-e49266eca455",
   "metadata": {},
   "source": [
    "The vector of means contains the mean quadrature displacements and for a single mode if of the form $\\vec{r}=(\\vec{x}, \\vec{p})$.\n",
    "\n",
    "Therefore looking at the first index of the vector of means for $q[1]$"
   ]
  },
  {
   "cell_type": "code",
   "execution_count": 49,
   "id": "ed1cf9e5-43e6-4a11-9d61-2d25a50a6f49",
   "metadata": {},
   "outputs": [
    {
     "name": "stdout",
     "output_type": "stream",
     "text": [
      "Mu:  0.9640275698261901\n"
     ]
    }
   ],
   "source": [
    "print( \"Mu: \", mu[0] )"
   ]
  },
  {
   "cell_type": "markdown",
   "id": "7dec41f2-6f12-4c87-81b3-ef1b60122e43",
   "metadata": {},
   "source": [
    "The $x$ quadrature displacement of the second mode is conditional to the post-selected value in the circuit construction."
   ]
  },
  {
   "cell_type": "markdown",
   "id": "574c812c-72cc-4814-852d-40374672438d",
   "metadata": {},
   "source": [
    "## **Heterodyne measurement**"
   ]
  },
  {
   "cell_type": "markdown",
   "id": "4d994772-6543-4a19-bc95-97f0e9f55184",
   "metadata": {},
   "source": [
    "The heterodyne measurement can only be performed in the Gaussian backend.\n",
    "$\\newcommand{\\ket}[1]{|#1\\rangle}$\n",
    "$\\newcommand{\\bra}[1]{\\langle#1|}$\n",
    "\n",
    "Heterodyne measurement is a Gaussian projective measurement given by projecting the state onto the coherent states, $\\frac{1}{\\pi}\\ket{\\alpha}\\bra{\\alpha}$\n",
    "\n",
    "Operations:\n",
    "- MeasureHeterodyne()\n",
    "\n",
    "Backend support:\n",
    "- \"gaussian\""
   ]
  },
  {
   "cell_type": "markdown",
   "id": "e3bb37cb-4c47-447a-a14a-d9def4873816",
   "metadata": {},
   "source": [
    "## **Photon counting measurement**"
   ]
  },
  {
   "cell_type": "markdown",
   "id": "ee617a9b-75c9-462e-8570-04d8ea37300d",
   "metadata": {},
   "source": [
    "$\\newcommand{\\ket}[1]{|#1\\rangle}$\n",
    "$\\newcommand{\\bra}[1]{\\langle#1|}$\n",
    "\n",
    "A non-Gaussian projective measurement given by $\\ket{n_i}\\bra{n_i}$\n",
    "\n",
    "---\n",
    "Warning: Photon counting is available in the Gaussian backend, but the state of the circuit is not updated after measurement (since it would be non-Gaussian).\n",
    "\n",
    "---\n",
    "\n",
    "Operations:\n",
    "- MeasureFock()\n",
    "\n",
    "Backend support:\n",
    "- \"fock\"\n",
    "- \"tf\"\n",
    "- \"gaussian\""
   ]
  },
  {
   "cell_type": "code",
   "execution_count": 51,
   "id": "7474f8ba-8983-43d0-acab-7d2fed5c0f09",
   "metadata": {},
   "outputs": [
    {
     "name": "stdout",
     "output_type": "stream",
     "text": [
      "Results q[0]:  0\n",
      "Results q[1]:  5\n"
     ]
    }
   ],
   "source": [
    "# set the random seed\n",
    "np.random.seed(42)\n",
    "\n",
    "prog = sf.Program(2)\n",
    "eng = sf.Engine(\"fock\", backend_options={\"cutoff_dim\": 6})\n",
    "\n",
    "with prog.context as q:\n",
    "    Fock(2) | q[0]\n",
    "    Fock(3) | q[1]\n",
    "    BSgate() | (q[0], q[1])    # 50-50 beam splitter implied BSgate(np.pi/4, 0.0)\n",
    "    MeasureFock(select=0) | q[0] # post-selection\n",
    "    MeasureFock() | q[1]\n",
    "    \n",
    "results = eng.run(prog)\n",
    "\n",
    "# extract the measured value of mode q[0] via the results object returned by the engine after it has finished execution:\n",
    "print( \"Results q[0]: \", results.samples[0][0])\n",
    "print( \"Results q[1]: \", results.samples[0][1] )"
   ]
  }
 ],
 "metadata": {
  "kernelspec": {
   "display_name": "quantum",
   "language": "python",
   "name": "quantum"
  },
  "language_info": {
   "codemirror_mode": {
    "name": "ipython",
    "version": 3
   },
   "file_extension": ".py",
   "mimetype": "text/x-python",
   "name": "python",
   "nbconvert_exporter": "python",
   "pygments_lexer": "ipython3",
   "version": "3.9.4"
  },
  "toc-autonumbering": false,
  "toc-showcode": true,
  "toc-showmarkdowntxt": false
 },
 "nbformat": 4,
 "nbformat_minor": 5
}
