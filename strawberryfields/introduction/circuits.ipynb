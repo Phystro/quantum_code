{
 "cells": [
  {
   "cell_type": "markdown",
   "id": "2577d739-0c04-42f9-96bf-48264393fdec",
   "metadata": {},
   "source": [
    "# CIRCUITS"
   ]
  },
  {
   "cell_type": "markdown",
   "id": "ea3e6205-090f-4871-a4ba-997bd276e304",
   "metadata": {},
   "source": [
    "Photonic quantum circuits are rep as `Program` objects.\n",
    "- create program, perform quantum operations, perform measurements, simulate using backeds\n",
    "\n",
    "To create quantum circuit, create `Program` object"
   ]
  },
  {
   "cell_type": "code",
   "execution_count": 25,
   "id": "faf75fc0-d2ae-4f17-b2ff-8fa7e8b6c72f",
   "metadata": {},
   "outputs": [],
   "source": [
    "import strawberryfields as sf\n",
    "from strawberryfields import ops\n",
    "\n",
    "# create a 3-mode quantum program\n",
    "prog = sf.Program(3)\n",
    "\n",
    "# begin quantum operations\n",
    "# Program.context returns q as a representation of the quantum registers(qumodes/modes)\n",
    "with prog.context as q:\n",
    "    SG = ops.Sgate(0.54)    # squeezing gate\n",
    "    BS = ops.BSgate(0.43, 0.1)    # beamsplitter gate\n",
    "    \n",
    "    SG | q[0]\n",
    "    SG | q[1]\n",
    "    SG | q[2]\n",
    "    \n",
    "    BS | (q[0], q[2])\n",
    "    BS | (q[1], q[2])\n",
    "    \n",
    "    ops.MeasureFock() | q"
   ]
  },
  {
   "cell_type": "code",
   "execution_count": 26,
   "id": "58c3433e-c338-4154-aa9a-16e8198c67dc",
   "metadata": {},
   "outputs": [
    {
     "name": "stdout",
     "output_type": "stream",
     "text": [
      "Sgate(0.54, 0) | (q[0])\n",
      "Sgate(0.54, 0) | (q[1])\n",
      "Sgate(0.54, 0) | (q[2])\n",
      "BSgate(0.43, 0.1) | (q[0], q[2])\n",
      "BSgate(0.43, 0.1) | (q[1], q[2])\n",
      "MeasureFock | (q[0], q[1], q[2])\n"
     ]
    }
   ],
   "source": [
    "# View contents of the program\n",
    "sf.Program.print(prog)"
   ]
  },
  {
   "cell_type": "code",
   "execution_count": 27,
   "id": "3a744bc7-70a0-4cd7-a891-70841d2ebb02",
   "metadata": {},
   "outputs": [],
   "source": [
    "# view contents of the program as a qcircuit latex doc\n",
    "# sf.Program.draw_circuit(prog)"
   ]
  },
  {
   "cell_type": "markdown",
   "id": "e47ff936-6f3b-4cbb-b1b0-cc5d141129f1",
   "metadata": {},
   "source": [
    "## Simulating program\n",
    "Using backend simulators to simulate quantum circuits.\n",
    "To access simulators, an `engine` must be initialized.\n",
    "The **engine** is responsible for executing program on a specified backend (local or remote simulator)\n",
    "\n",
    "syntax:\n",
    "```\n",
    "Engine(backend_name, dictionary_of: backend_options)\n",
    "```\n",
    "\n",
    "Available backends:\n",
    "- `fock`\n",
    "- `gaussian`\n",
    "- `bosonic`\n",
    "- `tf`\n",
    "\n",
    "Execute quantum program on selected backend via ```Engine.run()```"
   ]
  },
  {
   "cell_type": "code",
   "execution_count": 28,
   "id": "03baae2b-0bdb-4b7a-acd3-48bbc93def36",
   "metadata": {},
   "outputs": [],
   "source": [
    "# initialize fock backend with a Fock cutoff dimension (truncation) of 5\n",
    "eng = sf.Engine(\"fock\", backend_options={\"cutoff_dim\": 5})\n",
    "result = eng.run(prog)"
   ]
  },
  {
   "cell_type": "markdown",
   "id": "2a8b4290-a17f-46da-bf45-f69832fa2d44",
   "metadata": {},
   "source": [
    "## Execution results\n",
    "\n",
    "The returned `Result` object provides several useful properties for accessing results of program execution."
   ]
  },
  {
   "cell_type": "markdown",
   "id": "1165c7cc-e2f5-4438-9f68-3dc9a6a5a4b8",
   "metadata": {},
   "source": [
    "`Result.state` contains details and methods for manipulation of final circuit state"
   ]
  },
  {
   "cell_type": "code",
   "execution_count": 29,
   "id": "13b19dd6-465a-49f6-9d6d-6bdbee21c9b6",
   "metadata": {},
   "outputs": [
    {
     "name": "stdout",
     "output_type": "stream",
     "text": [
      "printed:  <FockState: num_modes=3, cutoff=5, pure=True, hbar=2>\n",
      "trace of q state: 1.0000000000000004\n",
      "density matrix: (5, 5, 5, 5, 5, 5)\n"
     ]
    }
   ],
   "source": [
    "print(\"printed: \", result.state)\n",
    "\n",
    "state = result.state\n",
    "# trace of the quantum state\n",
    "print(\"trace of q state:\", state.trace())\n",
    "\n",
    "# density matrix\n",
    "print(\"density matrix:\", state.dm().shape)"
   ]
  },
  {
   "cell_type": "markdown",
   "id": "e5d454a7-f756-47ef-80b5-60626ebfbab5",
   "metadata": {},
   "source": [
    "`Result.samples` measurement samples from any mesurements performed"
   ]
  },
  {
   "cell_type": "code",
   "execution_count": 30,
   "id": "1831d120-c529-4d91-91f2-94867208f49e",
   "metadata": {},
   "outputs": [
    {
     "name": "stdout",
     "output_type": "stream",
     "text": [
      "measurement samples: [[0 0 2]]\n"
     ]
    }
   ],
   "source": [
    "print(\"measurement samples:\", result.samples)"
   ]
  },
  {
   "cell_type": "code",
   "execution_count": null,
   "id": "a4273820-4654-44d5-afb7-3de65b756f0f",
   "metadata": {},
   "outputs": [],
   "source": []
  },
  {
   "cell_type": "code",
   "execution_count": null,
   "id": "e5c95016-7ec2-4e80-920a-a433723a34fc",
   "metadata": {},
   "outputs": [],
   "source": []
  }
 ],
 "metadata": {
  "kernelspec": {
   "display_name": "quantum",
   "language": "python",
   "name": "quantum"
  },
  "language_info": {
   "codemirror_mode": {
    "name": "ipython",
    "version": 3
   },
   "file_extension": ".py",
   "mimetype": "text/x-python",
   "name": "python",
   "nbconvert_exporter": "python",
   "pygments_lexer": "ipython3",
   "version": "3.9.4"
  }
 },
 "nbformat": 4,
 "nbformat_minor": 5
}
