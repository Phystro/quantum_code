{
 "cells": [
  {
   "cell_type": "code",
   "execution_count": 1,
   "id": "08d61411-787d-4c90-a4a4-7da8b0ac6c09",
   "metadata": {},
   "outputs": [],
   "source": [
    "# Blackbird programs are managed by an Engine\n",
    "# Instantiating an Engine returns both the Engine and its corresponding quantum register\n",
    "\n",
    "import strawberryfields as sf\n",
    "from strawberryfields.ops import *\n",
    "\n",
    "import numpy as np\n",
    "\n",
    "QUBITS = 2\n",
    "prog = sf.Program(QUBITS)\n",
    "eng = sf.Engine(backend=\"gaussian\")"
   ]
  },
  {
   "cell_type": "code",
   "execution_count": 2,
   "id": "01297af3-09df-4df5-8a43-02bd7ebf7273",
   "metadata": {},
   "outputs": [],
   "source": [
    "# the register is also available via sf.Engine.register\n",
    "# assert q = eng.register"
   ]
  },
  {
   "cell_type": "code",
   "execution_count": 3,
   "id": "c683d47a-0d4b-41b1-9e8d-5d7406016000",
   "metadata": {},
   "outputs": [],
   "source": [
    "z = 4.0\n",
    "S = Sgate(z)\n",
    "B = BSgate(np.pi/4, 0)\n",
    "\n",
    "with prog.context as q:\n",
    "    S | q[0]\n",
    "    # addinf new qumodes\n",
    "    (bob, charlie) = New(2)\n",
    "    S.H | q[1]\n",
    "    B | q\n",
    "    B | (bob, charlie)\n",
    "    CXgate(1) | (bob, charlie)\n",
    "    \n",
    "    \n",
    "    MeasureP | q[0]\n",
    "    MeasureP | q[1]\n",
    "    \n",
    "# get values\n",
    "vals = [reg.val for reg in q]"
   ]
  },
  {
   "cell_type": "code",
   "execution_count": 4,
   "id": "3d6928c5-21a7-4791-bc1b-48c12f52a6f5",
   "metadata": {},
   "outputs": [
    {
     "name": "stdout",
     "output_type": "stream",
     "text": [
      "[None, None] None\n"
     ]
    }
   ],
   "source": [
    "print(vals, eng.print_applied())"
   ]
  },
  {
   "cell_type": "code",
   "execution_count": null,
   "id": "50b2cf25-cc6c-4135-b43c-715b97b3f1c0",
   "metadata": {},
   "outputs": [],
   "source": []
  }
 ],
 "metadata": {
  "kernelspec": {
   "display_name": "quantum",
   "language": "python",
   "name": "quantum"
  },
  "language_info": {
   "codemirror_mode": {
    "name": "ipython",
    "version": 3
   },
   "file_extension": ".py",
   "mimetype": "text/x-python",
   "name": "python",
   "nbconvert_exporter": "python",
   "pygments_lexer": "ipython3",
   "version": "3.9.4"
  }
 },
 "nbformat": 4,
 "nbformat_minor": 5
}
